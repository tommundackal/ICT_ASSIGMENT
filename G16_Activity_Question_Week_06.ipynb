{
  "nbformat": 4,
  "nbformat_minor": 0,
  "metadata": {
    "colab": {
      "name": "G16  Activity Question Week -06.ipynb",
      "provenance": []
    },
    "kernelspec": {
      "name": "python3",
      "display_name": "Python 3"
    },
    "language_info": {
      "name": "python"
    }
  },
  "cells": [
    {
      "cell_type": "code",
      "metadata": {
        "id": "_lih2mgwd-3P"
      },
      "source": [
        "import numpy as np\n",
        "import pandas as pd\n",
        "import matplotlib.pyplot as plt\n",
        "import seaborn as sns\n",
        "# REading data from the Excel\n",
        "input_data=pd.read_excel('Dataset_w6.xlsx')\n",
        "input_data"
      ],
      "execution_count": null,
      "outputs": []
    },
    {
      "cell_type": "code",
      "metadata": {
        "colab": {
          "base_uri": "https://localhost:8080/"
        },
        "id": "Pkc2DTpreaRD",
        "outputId": "1f3b9d9d-9c4d-49cb-e582-2d11c810263c"
      },
      "source": [
        "#Find out how many countries are there in the datas\n",
        "int_country=input_data['country'].count()\n",
        "int_country"
      ],
      "execution_count": null,
      "outputs": [
        {
          "output_type": "execute_result",
          "data": {
            "text/plain": [
              "196"
            ]
          },
          "metadata": {},
          "execution_count": 2
        }
      ]
    },
    {
      "cell_type": "code",
      "metadata": {
        "id": "L5KT4jQce_Gr",
        "colab": {
          "base_uri": "https://localhost:8080/",
          "height": 606
        },
        "outputId": "9c1d5e89-c40a-4889-9f6e-706c57332777"
      },
      "source": [
        "#Examine the data by using visualizations.\n",
        "x=input_data['GDP per capita (current US$)']\n",
        "y=input_data['International trade: Imports (million US$)']\n",
        "plt.figure(figsize=(10,10))\n",
        "plt.style.use('seaborn')\n",
        "plt.scatter(x,y,marker=\"*\",s=100,edgecolors=\"black\",c=\"yellow\")\n",
        "plt.title(\"GDP vs Trade\")\n",
        "plt.show()"
      ],
      "execution_count": 42,
      "outputs": [
        {
          "output_type": "display_data",
          "data": {
            "image/png": "[encoded data removed]",
            "text/plain": [
              "<Figure size 720x720 with 1 Axes>"
            ]
          },
          "metadata": {
            "needs_background": "light"
          }
        }
      ]
    },
    {
      "cell_type": "code",
      "metadata": {
        "colab": {
          "base_uri": "https://localhost:8080/"
        },
        "id": "whaQKptFfrS4",
        "outputId": "4a1e77d8-dd45-43ff-e332-07feb18f1bea"
      },
      "source": [
        "#Find out how many countries with respect to the region are available in the dataset\n",
        "int_count = input_data.groupby('Region').count()\n",
        "int_count['country']\n"
      ],
      "execution_count": 21,
      "outputs": [
        {
          "output_type": "execute_result",
          "data": {
            "text/plain": [
              "Region\n",
              "Caribbean            16\n",
              "CentralAmerica        8\n",
              "CentralAsia           5\n",
              "EasternAfrica        17\n",
              "EasternAsia           7\n",
              "EasternEurope        10\n",
              "Melanesia             5\n",
              "Micronesia            4\n",
              "MiddleAfrica          9\n",
              "NorthernAfrica        5\n",
              "NorthernAmerica       4\n",
              "NorthernEurope       10\n",
              "Oceania               2\n",
              "Polynesia             5\n",
              "South-easternAsia    11\n",
              "SouthAmerica         12\n",
              "SouthernAfrica        5\n",
              "SouthernAsia          9\n",
              "SouthernEurope       12\n",
              "WesternAfrica        15\n",
              "WesternAsia          18\n",
              "WesternEurope         7\n",
              "Name: country, dtype: int64"
            ]
          },
          "metadata": {},
          "execution_count": 21
        }
      ]
    },
    {
      "cell_type": "code",
      "metadata": {
        "colab": {
          "base_uri": "https://localhost:8080/"
        },
        "id": "WXnrkXeygPT3",
        "outputId": "fef18bbf-1934-4c70-ac53-3f2d8bcfea3f"
      },
      "source": [
        "# Maximum GDP\n",
        "GDP_max = input_data.groupby('GDP per capita (current US$)').max()\n",
        "GDP_max['Region'].head(1)"
      ],
      "execution_count": 36,
      "outputs": [
        {
          "output_type": "execute_result",
          "data": {
            "text/plain": [
              "GDP per capita (current US$)\n",
              "144.5    EasternAfrica\n",
              "Name: Region, dtype: object"
            ]
          },
          "metadata": {},
          "execution_count": 36
        }
      ]
    },
    {
      "cell_type": "code",
      "metadata": {
        "colab": {
          "base_uri": "https://localhost:8080/"
        },
        "id": "VZY9oKeKinzZ",
        "outputId": "04ab707d-8b14-49e3-dbaa-a37f76dec2be"
      },
      "source": [
        "#International trade: Imports (million US$)\n",
        "Int_max =input_data.groupby('International trade: Imports (million US$)').max()\n",
        "Int_max['country'].head(1)"
      ],
      "execution_count": 37,
      "outputs": [
        {
          "output_type": "execute_result",
          "data": {
            "text/plain": [
              "International trade: Imports (million US$)\n",
              "12    Tuvalu\n",
              "Name: country, dtype: object"
            ]
          },
          "metadata": {},
          "execution_count": 37
        }
      ]
    },
    {
      "cell_type": "code",
      "metadata": {
        "colab": {
          "base_uri": "https://localhost:8080/",
          "height": 739
        },
        "id": "cqHnaPzwjIiz",
        "outputId": "45b1fb04-2c5c-4313-fcd8-04ea298cf898"
      },
      "source": [
        "#Find out which region has more consistent with respect to GDP per capita (current US$)\n",
        "data_region = input_data.groupby(['Region'],as_index=False).agg({'GDP per capita (current US$)':'mean'})\n",
        "data_region"
      ],
      "execution_count": 54,
      "outputs": [
        {
          "output_type": "execute_result",
          "data": {
            "text/html": [
              "<div>\n",
              "<style scoped>\n",
              "    .dataframe tbody tr th:only-of-type {\n",
              "        vertical-align: middle;\n",
              "    }\n",
              "\n",
              "    .dataframe tbody tr th {\n",
              "        vertical-align: top;\n",
              "    }\n",
              "\n",
              "    .dataframe thead th {\n",
              "        text-align: right;\n",
              "    }\n",
              "</style>\n",
              "<table border=\"1\" class=\"dataframe\">\n",
              "  <thead>\n",
              "    <tr style=\"text-align: right;\">\n",
              "      <th></th>\n",
              "      <th>Region</th>\n",
              "      <th>GDP per capita (current US$)</th>\n",
              "    </tr>\n",
              "  </thead>\n",
              "  <tbody>\n",
              "    <tr>\n",
              "      <th>0</th>\n",
              "      <td>Caribbean</td>\n",
              "      <td>15135.562500</td>\n",
              "    </tr>\n",
              "    <tr>\n",
              "      <th>1</th>\n",
              "      <td>CentralAmerica</td>\n",
              "      <td>6348.137500</td>\n",
              "    </tr>\n",
              "    <tr>\n",
              "      <th>2</th>\n",
              "      <td>CentralAsia</td>\n",
              "      <td>4329.880000</td>\n",
              "    </tr>\n",
              "    <tr>\n",
              "      <th>3</th>\n",
              "      <td>EasternAfrica</td>\n",
              "      <td>2088.852941</td>\n",
              "    </tr>\n",
              "    <tr>\n",
              "      <th>4</th>\n",
              "      <td>EasternAsia</td>\n",
              "      <td>27967.614286</td>\n",
              "    </tr>\n",
              "    <tr>\n",
              "      <th>5</th>\n",
              "      <td>EasternEurope</td>\n",
              "      <td>9292.490000</td>\n",
              "    </tr>\n",
              "    <tr>\n",
              "      <th>6</th>\n",
              "      <td>Melanesia</td>\n",
              "      <td>9261.960000</td>\n",
              "    </tr>\n",
              "    <tr>\n",
              "      <th>7</th>\n",
              "      <td>Micronesia</td>\n",
              "      <td>5008.300000</td>\n",
              "    </tr>\n",
              "    <tr>\n",
              "      <th>8</th>\n",
              "      <td>MiddleAfrica</td>\n",
              "      <td>3928.833333</td>\n",
              "    </tr>\n",
              "    <tr>\n",
              "      <th>9</th>\n",
              "      <td>NorthernAfrica</td>\n",
              "      <td>3934.960000</td>\n",
              "    </tr>\n",
              "    <tr>\n",
              "      <th>10</th>\n",
              "      <td>NorthernAmerica</td>\n",
              "      <td>57659.000000</td>\n",
              "    </tr>\n",
              "    <tr>\n",
              "      <th>11</th>\n",
              "      <td>NorthernEurope</td>\n",
              "      <td>42098.220000</td>\n",
              "    </tr>\n",
              "    <tr>\n",
              "      <th>12</th>\n",
              "      <td>Oceania</td>\n",
              "      <td>44823.250000</td>\n",
              "    </tr>\n",
              "    <tr>\n",
              "      <th>13</th>\n",
              "      <td>Polynesia</td>\n",
              "      <td>8686.520000</td>\n",
              "    </tr>\n",
              "    <tr>\n",
              "      <th>14</th>\n",
              "      <td>South-easternAsia</td>\n",
              "      <td>10299.027273</td>\n",
              "    </tr>\n",
              "    <tr>\n",
              "      <th>15</th>\n",
              "      <td>SouthAmerica</td>\n",
              "      <td>8499.775000</td>\n",
              "    </tr>\n",
              "    <tr>\n",
              "      <th>16</th>\n",
              "      <td>SouthernAfrica</td>\n",
              "      <td>4191.900000</td>\n",
              "    </tr>\n",
              "    <tr>\n",
              "      <th>17</th>\n",
              "      <td>SouthernAsia</td>\n",
              "      <td>2968.400000</td>\n",
              "    </tr>\n",
              "    <tr>\n",
              "      <th>18</th>\n",
              "      <td>SouthernEurope</td>\n",
              "      <td>14462.741667</td>\n",
              "    </tr>\n",
              "    <tr>\n",
              "      <th>19</th>\n",
              "      <td>WesternAfrica</td>\n",
              "      <td>1013.140000</td>\n",
              "    </tr>\n",
              "    <tr>\n",
              "      <th>20</th>\n",
              "      <td>WesternAsia</td>\n",
              "      <td>17013.938889</td>\n",
              "    </tr>\n",
              "    <tr>\n",
              "      <th>21</th>\n",
              "      <td>WesternEurope</td>\n",
              "      <td>55387.128571</td>\n",
              "    </tr>\n",
              "  </tbody>\n",
              "</table>\n",
              "</div>"
            ],
            "text/plain": [
              "               Region  GDP per capita (current US$)\n",
              "0           Caribbean                  15135.562500\n",
              "1      CentralAmerica                   6348.137500\n",
              "2         CentralAsia                   4329.880000\n",
              "3       EasternAfrica                   2088.852941\n",
              "4         EasternAsia                  27967.614286\n",
              "5       EasternEurope                   9292.490000\n",
              "6           Melanesia                   9261.960000\n",
              "7          Micronesia                   5008.300000\n",
              "8        MiddleAfrica                   3928.833333\n",
              "9      NorthernAfrica                   3934.960000\n",
              "10    NorthernAmerica                  57659.000000\n",
              "11     NorthernEurope                  42098.220000\n",
              "12            Oceania                  44823.250000\n",
              "13          Polynesia                   8686.520000\n",
              "14  South-easternAsia                  10299.027273\n",
              "15       SouthAmerica                   8499.775000\n",
              "16     SouthernAfrica                   4191.900000\n",
              "17       SouthernAsia                   2968.400000\n",
              "18     SouthernEurope                  14462.741667\n",
              "19      WesternAfrica                   1013.140000\n",
              "20        WesternAsia                  17013.938889\n",
              "21      WesternEurope                  55387.128571"
            ]
          },
          "metadata": {},
          "execution_count": 54
        }
      ]
    },
    {
      "cell_type": "code",
      "metadata": {
        "id": "S1RpR4Zpkif6"
      },
      "source": [
        ""
      ],
      "execution_count": null,
      "outputs": []
    }
  ]
}