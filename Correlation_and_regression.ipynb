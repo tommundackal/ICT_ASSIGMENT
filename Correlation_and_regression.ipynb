{
  "nbformat": 4,
  "nbformat_minor": 0,
  "metadata": {
    "colab": {
      "name": "Correlation and regression.ipynb",
      "provenance": []
    },
    "kernelspec": {
      "name": "python3",
      "display_name": "Python 3"
    },
    "language_info": {
      "name": "python"
    }
  },
  "cells": [
    {
      "cell_type": "code",
      "execution_count": 2,
      "metadata": {
        "colab": {
          "base_uri": "https://localhost:8080/",
          "height": 615
        },
        "id": "4oU-RAhRc_iZ",
        "outputId": "fe109812-7903-404b-aaaf-a1f7d54596a6"
      },
      "outputs": [
        {
          "output_type": "execute_result",
          "data": {
            "text/html": [
              "<div>\n",
              "<style scoped>\n",
              "    .dataframe tbody tr th:only-of-type {\n",
              "        vertical-align: middle;\n",
              "    }\n",
              "\n",
              "    .dataframe tbody tr th {\n",
              "        vertical-align: top;\n",
              "    }\n",
              "\n",
              "    .dataframe thead th {\n",
              "        text-align: right;\n",
              "    }\n",
              "</style>\n",
              "<table border=\"1\" class=\"dataframe\">\n",
              "  <thead>\n",
              "    <tr style=\"text-align: right;\">\n",
              "      <th></th>\n",
              "      <th>Date</th>\n",
              "      <th>Add1(in Thousands)</th>\n",
              "      <th>Add2(in Thousands)</th>\n",
              "      <th>Add3(in Thousands)</th>\n",
              "      <th>Add4(in Thousands)</th>\n",
              "      <th>Add5(in Thousands)</th>\n",
              "      <th>Profit(in Thousands)</th>\n",
              "    </tr>\n",
              "  </thead>\n",
              "  <tbody>\n",
              "    <tr>\n",
              "      <th>0</th>\n",
              "      <td>2018-10-08</td>\n",
              "      <td>208.00</td>\n",
              "      <td>222.25</td>\n",
              "      <td>206.85</td>\n",
              "      <td>216.00</td>\n",
              "      <td>215.15</td>\n",
              "      <td>4093.065</td>\n",
              "    </tr>\n",
              "    <tr>\n",
              "      <th>1</th>\n",
              "      <td>2018-10-05</td>\n",
              "      <td>217.00</td>\n",
              "      <td>218.60</td>\n",
              "      <td>205.90</td>\n",
              "      <td>210.25</td>\n",
              "      <td>209.20</td>\n",
              "      <td>4042.448</td>\n",
              "    </tr>\n",
              "    <tr>\n",
              "      <th>2</th>\n",
              "      <td>2018-10-04</td>\n",
              "      <td>223.50</td>\n",
              "      <td>227.80</td>\n",
              "      <td>216.15</td>\n",
              "      <td>217.25</td>\n",
              "      <td>218.20</td>\n",
              "      <td>4213.819</td>\n",
              "    </tr>\n",
              "    <tr>\n",
              "      <th>3</th>\n",
              "      <td>2018-10-03</td>\n",
              "      <td>230.00</td>\n",
              "      <td>237.50</td>\n",
              "      <td>225.75</td>\n",
              "      <td>226.45</td>\n",
              "      <td>227.60</td>\n",
              "      <td>4391.665</td>\n",
              "    </tr>\n",
              "    <tr>\n",
              "      <th>4</th>\n",
              "      <td>2018-10-01</td>\n",
              "      <td>234.55</td>\n",
              "      <td>234.60</td>\n",
              "      <td>221.05</td>\n",
              "      <td>230.30</td>\n",
              "      <td>230.90</td>\n",
              "      <td>4350.683</td>\n",
              "    </tr>\n",
              "    <tr>\n",
              "      <th>...</th>\n",
              "      <td>...</td>\n",
              "      <td>...</td>\n",
              "      <td>...</td>\n",
              "      <td>...</td>\n",
              "      <td>...</td>\n",
              "      <td>...</td>\n",
              "      <td>...</td>\n",
              "    </tr>\n",
              "    <tr>\n",
              "      <th>200</th>\n",
              "      <td>2017-12-14</td>\n",
              "      <td>288.00</td>\n",
              "      <td>288.25</td>\n",
              "      <td>279.20</td>\n",
              "      <td>284.50</td>\n",
              "      <td>284.30</td>\n",
              "      <td>5374.105</td>\n",
              "    </tr>\n",
              "    <tr>\n",
              "      <th>201</th>\n",
              "      <td>2017-12-13</td>\n",
              "      <td>290.00</td>\n",
              "      <td>292.50</td>\n",
              "      <td>282.20</td>\n",
              "      <td>284.80</td>\n",
              "      <td>284.45</td>\n",
              "      <td>5439.655</td>\n",
              "    </tr>\n",
              "    <tr>\n",
              "      <th>202</th>\n",
              "      <td>2017-12-12</td>\n",
              "      <td>298.60</td>\n",
              "      <td>298.60</td>\n",
              "      <td>286.65</td>\n",
              "      <td>287.45</td>\n",
              "      <td>287.80</td>\n",
              "      <td>5545.013</td>\n",
              "    </tr>\n",
              "    <tr>\n",
              "      <th>203</th>\n",
              "      <td>2017-12-11</td>\n",
              "      <td>290.00</td>\n",
              "      <td>299.55</td>\n",
              "      <td>285.90</td>\n",
              "      <td>297.85</td>\n",
              "      <td>298.35</td>\n",
              "      <td>5565.444</td>\n",
              "    </tr>\n",
              "    <tr>\n",
              "      <th>204</th>\n",
              "      <td>2017-12-08</td>\n",
              "      <td>287.55</td>\n",
              "      <td>289.90</td>\n",
              "      <td>285.05</td>\n",
              "      <td>288.05</td>\n",
              "      <td>288.45</td>\n",
              "      <td>5421.842</td>\n",
              "    </tr>\n",
              "  </tbody>\n",
              "</table>\n",
              "<p>205 rows × 7 columns</p>\n",
              "</div>"
            ],
            "text/plain": [
              "           Date  Add1(in Thousands)  ...  Add5(in Thousands)  Profit(in Thousands)\n",
              "0    2018-10-08              208.00  ...              215.15              4093.065\n",
              "1    2018-10-05              217.00  ...              209.20              4042.448\n",
              "2    2018-10-04              223.50  ...              218.20              4213.819\n",
              "3    2018-10-03              230.00  ...              227.60              4391.665\n",
              "4    2018-10-01              234.55  ...              230.90              4350.683\n",
              "..          ...                 ...  ...                 ...                   ...\n",
              "200  2017-12-14              288.00  ...              284.30              5374.105\n",
              "201  2017-12-13              290.00  ...              284.45              5439.655\n",
              "202  2017-12-12              298.60  ...              287.80              5545.013\n",
              "203  2017-12-11              290.00  ...              298.35              5565.444\n",
              "204  2017-12-08              287.55  ...              288.45              5421.842\n",
              "\n",
              "[205 rows x 7 columns]"
            ]
          },
          "metadata": {},
          "execution_count": 2
        }
      ],
      "source": [
        "# Importing input file\n",
        "import pandas as pd\n",
        "import numpy as np\n",
        "import matplotlib.pyplot as plt\n",
        "import seaborn as sns\n",
        "input_data=pd.read_csv('Add_sales_data_2018.csv')\n",
        "input_data"
      ]
    },
    {
      "cell_type": "code",
      "source": [
        "input_data.info()"
      ],
      "metadata": {
        "colab": {
          "base_uri": "https://localhost:8080/"
        },
        "id": "QpkQ-VmKdpB3",
        "outputId": "61ee142a-7fed-409e-8b0b-5c20296109c7"
      },
      "execution_count": 4,
      "outputs": [
        {
          "output_type": "stream",
          "name": "stdout",
          "text": [
            "<class 'pandas.core.frame.DataFrame'>\n",
            "RangeIndex: 205 entries, 0 to 204\n",
            "Data columns (total 7 columns):\n",
            " #   Column                Non-Null Count  Dtype  \n",
            "---  ------                --------------  -----  \n",
            " 0   Date                  205 non-null    object \n",
            " 1   Add1(in Thousands)    205 non-null    float64\n",
            " 2   Add2(in Thousands)    205 non-null    float64\n",
            " 3   Add3(in Thousands)    205 non-null    float64\n",
            " 4   Add4(in Thousands)    205 non-null    float64\n",
            " 5   Add5(in Thousands)    205 non-null    float64\n",
            " 6   Profit(in Thousands)  205 non-null    float64\n",
            "dtypes: float64(6), object(1)\n",
            "memory usage: 11.3+ KB\n"
          ]
        }
      ]
    },
    {
      "cell_type": "code",
      "source": [
        "input_data.shape"
      ],
      "metadata": {
        "colab": {
          "base_uri": "https://localhost:8080/"
        },
        "id": "vo9Ps1A1dvj7",
        "outputId": "396fb5e7-bcee-4497-dc20-644aa031b5d8"
      },
      "execution_count": 6,
      "outputs": [
        {
          "output_type": "execute_result",
          "data": {
            "text/plain": [
              "(205, 7)"
            ]
          },
          "metadata": {},
          "execution_count": 6
        }
      ]
    },
    {
      "cell_type": "code",
      "source": [
        "input_data.isna().sum()"
      ],
      "metadata": {
        "colab": {
          "base_uri": "https://localhost:8080/"
        },
        "id": "8QrDzb8Ed0lS",
        "outputId": "1e87abd5-de1e-4aff-b036-da88fe59c119"
      },
      "execution_count": 7,
      "outputs": [
        {
          "output_type": "execute_result",
          "data": {
            "text/plain": [
              "Date                    0\n",
              "Add1(in Thousands)      0\n",
              "Add2(in Thousands)      0\n",
              "Add3(in Thousands)      0\n",
              "Add4(in Thousands)      0\n",
              "Add5(in Thousands)      0\n",
              "Profit(in Thousands)    0\n",
              "dtype: int64"
            ]
          },
          "metadata": {},
          "execution_count": 7
        }
      ]
    },
    {
      "cell_type": "code",
      "source": [
        "#1. First of all, check whether there is any relationship between the amount spent for advertising through five different companies and profit generated.\n",
        "input_data.describe()"
      ],
      "metadata": {
        "colab": {
          "base_uri": "https://localhost:8080/",
          "height": 318
        },
        "id": "JbBv7snrd78O",
        "outputId": "7b8e0810-abbf-41c9-d1a4-8e805490bf4f"
      },
      "execution_count": 8,
      "outputs": [
        {
          "output_type": "execute_result",
          "data": {
            "text/html": [
              "<div>\n",
              "<style scoped>\n",
              "    .dataframe tbody tr th:only-of-type {\n",
              "        vertical-align: middle;\n",
              "    }\n",
              "\n",
              "    .dataframe tbody tr th {\n",
              "        vertical-align: top;\n",
              "    }\n",
              "\n",
              "    .dataframe thead th {\n",
              "        text-align: right;\n",
              "    }\n",
              "</style>\n",
              "<table border=\"1\" class=\"dataframe\">\n",
              "  <thead>\n",
              "    <tr style=\"text-align: right;\">\n",
              "      <th></th>\n",
              "      <th>Add1(in Thousands)</th>\n",
              "      <th>Add2(in Thousands)</th>\n",
              "      <th>Add3(in Thousands)</th>\n",
              "      <th>Add4(in Thousands)</th>\n",
              "      <th>Add5(in Thousands)</th>\n",
              "      <th>Profit(in Thousands)</th>\n",
              "    </tr>\n",
              "  </thead>\n",
              "  <tbody>\n",
              "    <tr>\n",
              "      <th>count</th>\n",
              "      <td>205.000000</td>\n",
              "      <td>205.000000</td>\n",
              "      <td>205.000000</td>\n",
              "      <td>205.000000</td>\n",
              "      <td>205.000000</td>\n",
              "      <td>205.000000</td>\n",
              "    </tr>\n",
              "    <tr>\n",
              "      <th>mean</th>\n",
              "      <td>267.577561</td>\n",
              "      <td>271.722439</td>\n",
              "      <td>262.990732</td>\n",
              "      <td>267.223902</td>\n",
              "      <td>267.152683</td>\n",
              "      <td>5059.630234</td>\n",
              "    </tr>\n",
              "    <tr>\n",
              "      <th>std</th>\n",
              "      <td>26.219588</td>\n",
              "      <td>25.914939</td>\n",
              "      <td>26.126704</td>\n",
              "      <td>26.238832</td>\n",
              "      <td>26.215360</td>\n",
              "      <td>486.910414</td>\n",
              "    </tr>\n",
              "    <tr>\n",
              "      <th>min</th>\n",
              "      <td>208.000000</td>\n",
              "      <td>218.600000</td>\n",
              "      <td>205.900000</td>\n",
              "      <td>210.250000</td>\n",
              "      <td>209.200000</td>\n",
              "      <td>4042.448000</td>\n",
              "    </tr>\n",
              "    <tr>\n",
              "      <th>25%</th>\n",
              "      <td>244.000000</td>\n",
              "      <td>248.500000</td>\n",
              "      <td>240.300000</td>\n",
              "      <td>243.050000</td>\n",
              "      <td>243.000000</td>\n",
              "      <td>4617.695000</td>\n",
              "    </tr>\n",
              "    <tr>\n",
              "      <th>50%</th>\n",
              "      <td>269.700000</td>\n",
              "      <td>274.200000</td>\n",
              "      <td>263.250000</td>\n",
              "      <td>268.900000</td>\n",
              "      <td>268.350000</td>\n",
              "      <td>5088.455000</td>\n",
              "    </tr>\n",
              "    <tr>\n",
              "      <th>75%</th>\n",
              "      <td>284.400000</td>\n",
              "      <td>288.800000</td>\n",
              "      <td>280.900000</td>\n",
              "      <td>284.500000</td>\n",
              "      <td>284.450000</td>\n",
              "      <td>5387.438000</td>\n",
              "    </tr>\n",
              "    <tr>\n",
              "      <th>max</th>\n",
              "      <td>327.700000</td>\n",
              "      <td>328.750000</td>\n",
              "      <td>321.650000</td>\n",
              "      <td>325.950000</td>\n",
              "      <td>325.750000</td>\n",
              "      <td>6137.800000</td>\n",
              "    </tr>\n",
              "  </tbody>\n",
              "</table>\n",
              "</div>"
            ],
            "text/plain": [
              "       Add1(in Thousands)  ...  Profit(in Thousands)\n",
              "count          205.000000  ...            205.000000\n",
              "mean           267.577561  ...           5059.630234\n",
              "std             26.219588  ...            486.910414\n",
              "min            208.000000  ...           4042.448000\n",
              "25%            244.000000  ...           4617.695000\n",
              "50%            269.700000  ...           5088.455000\n",
              "75%            284.400000  ...           5387.438000\n",
              "max            327.700000  ...           6137.800000\n",
              "\n",
              "[8 rows x 6 columns]"
            ]
          },
          "metadata": {},
          "execution_count": 8
        }
      ]
    },
    {
      "cell_type": "code",
      "source": [
        "#Median\n",
        "input_data.median()"
      ],
      "metadata": {
        "colab": {
          "base_uri": "https://localhost:8080/"
        },
        "id": "v8kYd7I3eEgz",
        "outputId": "667229db-bbaa-49c7-f896-8c39fdeef43c"
      },
      "execution_count": 10,
      "outputs": [
        {
          "output_type": "execute_result",
          "data": {
            "text/plain": [
              "Add1(in Thousands)       269.700\n",
              "Add2(in Thousands)       274.200\n",
              "Add3(in Thousands)       263.250\n",
              "Add4(in Thousands)       268.900\n",
              "Add5(in Thousands)       268.350\n",
              "Profit(in Thousands)    5088.455\n",
              "dtype: float64"
            ]
          },
          "metadata": {},
          "execution_count": 10
        }
      ]
    },
    {
      "cell_type": "code",
      "source": [
        "#Sum of attributes\n",
        "input_data.sum()"
      ],
      "metadata": {
        "colab": {
          "base_uri": "https://localhost:8080/"
        },
        "id": "2-SqGXoWeJxm",
        "outputId": "bf12e1b7-5186-47e9-a627-50bc8f89b30c"
      },
      "execution_count": 11,
      "outputs": [
        {
          "output_type": "execute_result",
          "data": {
            "text/plain": [
              "Date                    2018-10-082018-10-052018-10-042018-10-032018-1...\n",
              "Add1(in Thousands)                                                54853.4\n",
              "Add2(in Thousands)                                                55703.1\n",
              "Add3(in Thousands)                                                53913.1\n",
              "Add4(in Thousands)                                                54780.9\n",
              "Add5(in Thousands)                                                54766.3\n",
              "Profit(in Thousands)                                          1.03722e+06\n",
              "dtype: object"
            ]
          },
          "metadata": {},
          "execution_count": 11
        }
      ]
    },
    {
      "cell_type": "code",
      "source": [
        "#Graph\n",
        "sns.pairplot(input_data, x_vars=['Add1(in Thousands)', 'Add2(in Thousands)', 'Add3(in Thousands)','Add4(in Thousands)','Add5(in Thousands)'], y_vars='Profit(in Thousands)', height=3, aspect=1, kind='scatter')\n",
        "plt.show()"
      ],
      "metadata": {
        "colab": {
          "base_uri": "https://localhost:8080/",
          "height": 209
        },
        "id": "uIdIxtfJeUPS",
        "outputId": "cf1252ad-8475-4dfe-a3c0-cdf19590af2a"
      },
      "execution_count": 13,
      "outputs": [
        {
          "output_type": "display_data",
          "data": {
            "image/png": "[encoded data removed]",
            "text/plain": [
              "<Figure size 1080x216 with 5 Axes>"
            ]
          },
          "metadata": {
            "needs_background": "light"
          }
        }
      ]
    },
    {
      "cell_type": "code",
      "source": [
        "#2. Build a regression model to predict the profit from the given data and comment your findings on it.\n",
        "corrmatrix = input_data.corr()\n",
        "plt.subplots(figsize = (20,8));\n",
        "sns.heatmap(corrmatrix, vmin = 0.01, vmax=0.7, annot = True, linewidth = 0.2);"
      ],
      "metadata": {
        "colab": {
          "base_uri": "https://localhost:8080/",
          "height": 415
        },
        "id": "zH_JaJfIeblH",
        "outputId": "f1fedba1-5587-427e-9ab9-eed4de164097"
      },
      "execution_count": 14,
      "outputs": [
        {
          "output_type": "display_data",
          "data": {
            "image/png": "[encoded data removed]",
            "text/plain": [
              "<Figure size 1440x576 with 2 Axes>"
            ]
          },
          "metadata": {
            "needs_background": "light"
          }
        }
      ]
    },
    {
      "cell_type": "code",
      "source": [
        "X = input_data['Add2(in Thousands)']\n",
        "y = input_data['Profit(in Thousands)']"
      ],
      "metadata": {
        "id": "qXdDOqBien8A"
      },
      "execution_count": 15,
      "outputs": []
    },
    {
      "cell_type": "code",
      "source": [
        "from sklearn.model_selection import train_test_split\n",
        "X_train, X_test, y_train, y_test = train_test_split(X, y, train_size = 0.8, test_size = 0.2, random_state = 100)"
      ],
      "metadata": {
        "id": "ec2ZuoN2evEu"
      },
      "execution_count": 16,
      "outputs": []
    },
    {
      "cell_type": "code",
      "source": [
        "X_train.head()"
      ],
      "metadata": {
        "colab": {
          "base_uri": "https://localhost:8080/"
        },
        "id": "unmC6Zi3ezdA",
        "outputId": "174e911e-4059-4a12-a63f-b3bd25505f81"
      },
      "execution_count": 17,
      "outputs": [
        {
          "output_type": "execute_result",
          "data": {
            "text/plain": [
              "3      237.50\n",
              "157    282.75\n",
              "81     269.35\n",
              "32     244.50\n",
              "99     259.50\n",
              "Name: Add2(in Thousands), dtype: float64"
            ]
          },
          "metadata": {},
          "execution_count": 17
        }
      ]
    },
    {
      "cell_type": "code",
      "source": [
        "y_train.head()"
      ],
      "metadata": {
        "colab": {
          "base_uri": "https://localhost:8080/"
        },
        "id": "DbsPNPt_fCe-",
        "outputId": "722e250a-ee49-41c6-812a-0b84399d9a18"
      },
      "execution_count": 18,
      "outputs": [
        {
          "output_type": "execute_result",
          "data": {
            "text/plain": [
              "3      4391.665\n",
              "157    5263.935\n",
              "81     5027.633\n",
              "32     4566.310\n",
              "99     4772.520\n",
              "Name: Profit(in Thousands), dtype: float64"
            ]
          },
          "metadata": {},
          "execution_count": 18
        }
      ]
    },
    {
      "cell_type": "code",
      "source": [
        "import statsmodels.api as sm\n"
      ],
      "metadata": {
        "colab": {
          "base_uri": "https://localhost:8080/"
        },
        "id": "VlmGYTHkfF0Y",
        "outputId": "4ad7e4af-34ee-4b70-8668-98a2c1320c6a"
      },
      "execution_count": 19,
      "outputs": [
        {
          "output_type": "stream",
          "name": "stderr",
          "text": [
            "/usr/local/lib/python3.7/dist-packages/statsmodels/tools/_testing.py:19: FutureWarning: pandas.util.testing is deprecated. Use the functions in the public API at pandas.testing instead.\n",
            "  import pandas.util.testing as tm\n"
          ]
        }
      ]
    },
    {
      "cell_type": "code",
      "source": [
        "# Add a constant to get an intercept\n",
        "X_train_sm = sm.add_constant(X_train)\n",
        "\n",
        "# Fit the resgression line using 'OLS'\n",
        "lr = sm.OLS(y_train, X_train_sm).fit()"
      ],
      "metadata": {
        "id": "6x0q3xlDfMBk"
      },
      "execution_count": 20,
      "outputs": []
    },
    {
      "cell_type": "code",
      "source": [
        "# Print the parameters, i.e. the intercept and the slope of the regression line fitted\n",
        "lr.params"
      ],
      "metadata": {
        "colab": {
          "base_uri": "https://localhost:8080/"
        },
        "id": "rEFs-5mPfR3j",
        "outputId": "1b369bf1-0f56-4b19-ca4c-bced240f7270"
      },
      "execution_count": 21,
      "outputs": [
        {
          "output_type": "execute_result",
          "data": {
            "text/plain": [
              "const                -45.670847\n",
              "Add2(in Thousands)    18.787220\n",
              "dtype: float64"
            ]
          },
          "metadata": {},
          "execution_count": 21
        }
      ]
    },
    {
      "cell_type": "code",
      "source": [
        "# Performing a summary operation lists out all the different parameters of the regression line fitted\n",
        "print(lr.summary())"
      ],
      "metadata": {
        "colab": {
          "base_uri": "https://localhost:8080/"
        },
        "id": "caiuBIzNfVtW",
        "outputId": "828879c2-c68a-417a-dd05-d5ff35b162ed"
      },
      "execution_count": 22,
      "outputs": [
        {
          "output_type": "stream",
          "name": "stdout",
          "text": [
            "                             OLS Regression Results                             \n",
            "================================================================================\n",
            "Dep. Variable:     Profit(in Thousands)   R-squared:                       0.998\n",
            "Model:                              OLS   Adj. R-squared:                  0.998\n",
            "Method:                   Least Squares   F-statistic:                 9.694e+04\n",
            "Date:                  Thu, 09 Dec 2021   Prob (F-statistic):          6.36e-227\n",
            "Time:                          09:19:23   Log-Likelihood:                -726.74\n",
            "No. Observations:                   164   AIC:                             1457.\n",
            "Df Residuals:                       162   BIC:                             1464.\n",
            "Df Model:                             1                                         \n",
            "Covariance Type:              nonrobust                                         \n",
            "======================================================================================\n",
            "                         coef    std err          t      P>|t|      [0.025      0.975]\n",
            "--------------------------------------------------------------------------------------\n",
            "const                -45.6708     16.356     -2.792      0.006     -77.968     -13.373\n",
            "Add2(in Thousands)    18.7872      0.060    311.347      0.000      18.668      18.906\n",
            "==============================================================================\n",
            "Omnibus:                       76.941   Durbin-Watson:                   1.979\n",
            "Prob(Omnibus):                  0.000   Jarque-Bera (JB):              269.949\n",
            "Skew:                          -1.861   Prob(JB):                     2.41e-59\n",
            "Kurtosis:                       8.065   Cond. No.                     2.77e+03\n",
            "==============================================================================\n",
            "\n",
            "Warnings:\n",
            "[1] Standard Errors assume that the covariance matrix of the errors is correctly specified.\n",
            "[2] The condition number is large, 2.77e+03. This might indicate that there are\n",
            "strong multicollinearity or other numerical problems.\n"
          ]
        }
      ]
    },
    {
      "cell_type": "code",
      "source": [
        "plt.scatter(X_train, y_train)\n",
        "plt.plot(X_train, (-45.670847)+ 18.787220 *X_train, 'r')\n",
        "plt.show()"
      ],
      "metadata": {
        "colab": {
          "base_uri": "https://localhost:8080/",
          "height": 265
        },
        "id": "d6FfKKjjfZ5R",
        "outputId": "10fd8187-fff9-45b8-b3c7-f9880603a138"
      },
      "execution_count": 23,
      "outputs": [
        {
          "output_type": "display_data",
          "data": {
            "image/png": "[encoded data removed]",
            "text/plain": [
              "<Figure size 432x288 with 1 Axes>"
            ]
          },
          "metadata": {
            "needs_background": "light"
          }
        }
      ]
    },
    {
      "cell_type": "code",
      "source": [
        "#3) Predict the profit generated by the company, if they wish to spend the following amount for advertisement.\n",
        "Add1 = 290\n",
        "Profit=(-45.670847)+ 18.787220 * Add1\n",
        "print(\"When the amount spend for adverstisement is\", Add1,\"The profit generated by the company is \",Profit)"
      ],
      "metadata": {
        "colab": {
          "base_uri": "https://localhost:8080/"
        },
        "id": "-DxFijldff-g",
        "outputId": "13cca7eb-1187-435b-c306-8af6cf1077e0"
      },
      "execution_count": 24,
      "outputs": [
        {
          "output_type": "stream",
          "name": "stdout",
          "text": [
            "When the amount spend for adverstisement is 290 The profit generated by the company is  5402.622953\n"
          ]
        }
      ]
    },
    {
      "cell_type": "code",
      "source": [
        "Add = 312\n",
        "Profit=(-45.670847)+ 18.787220 * Add\n",
        "print(\"When the amount spend for adverstisement is\", Add,\"The profit generated by the company is \",Profit)"
      ],
      "metadata": {
        "colab": {
          "base_uri": "https://localhost:8080/"
        },
        "id": "oYZWLhG3fl81",
        "outputId": "71a9b927-b196-4258-848b-27c8d11eca5b"
      },
      "execution_count": 25,
      "outputs": [
        {
          "output_type": "stream",
          "name": "stdout",
          "text": [
            "When the amount spend for adverstisement is 312 The profit generated by the company is  5815.941793\n"
          ]
        }
      ]
    },
    {
      "cell_type": "code",
      "source": [
        "Add = 309\n",
        "Profit=(-45.670847)+ 18.787220 * Add\n",
        "print(\"When the amount spend for adverstisement is\", Add,\"The profit generated by the company is \",Profit)"
      ],
      "metadata": {
        "colab": {
          "base_uri": "https://localhost:8080/"
        },
        "id": "YTeIYObKfqk2",
        "outputId": "ba7e0f00-682a-4d68-cba3-e200f6d0e3c5"
      },
      "execution_count": 26,
      "outputs": [
        {
          "output_type": "stream",
          "name": "stdout",
          "text": [
            "When the amount spend for adverstisement is 309 The profit generated by the company is  5759.580133\n"
          ]
        }
      ]
    },
    {
      "cell_type": "code",
      "source": [
        "Add = 298\n",
        "Profit=(-45.670847)+ 18.787220 * Add\n",
        "print(\"When the amount spend for adverstisement is\", Add,\"The profit generated by the company is \",Profit)"
      ],
      "metadata": {
        "colab": {
          "base_uri": "https://localhost:8080/"
        },
        "id": "oiTvzQNefubg",
        "outputId": "d048ec19-e67b-4e45-e17b-fb5f588ce82e"
      },
      "execution_count": 27,
      "outputs": [
        {
          "output_type": "stream",
          "name": "stdout",
          "text": [
            "When the amount spend for adverstisement is 298 The profit generated by the company is  5552.920713\n"
          ]
        }
      ]
    },
    {
      "cell_type": "code",
      "source": [
        "Add = 320\n",
        "Profit=(-45.670847)+ 18.787220 * Add\n",
        "print(\"When the amount spend for adverstisement is\", Add,\"The profit generated by the company is \",Profit)"
      ],
      "metadata": {
        "colab": {
          "base_uri": "https://localhost:8080/"
        },
        "id": "oGQAvi_Pfz89",
        "outputId": "ecbfaee5-88b8-4880-a867-95e2ca45f5cf"
      },
      "execution_count": 28,
      "outputs": [
        {
          "output_type": "stream",
          "name": "stdout",
          "text": [
            "When the amount spend for adverstisement is 320 The profit generated by the company is  5966.239553\n"
          ]
        }
      ]
    }
  ]
}