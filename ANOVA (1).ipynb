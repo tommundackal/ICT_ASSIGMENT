{
  "nbformat": 4,
  "nbformat_minor": 0,
  "metadata": {
    "colab": {
      "name": "ANOVA.ipynb",
      "provenance": []
    },
    "kernelspec": {
      "name": "python3",
      "display_name": "Python 3"
    },
    "language_info": {
      "name": "python"
    }
  },
  "cells": [
    {
      "cell_type": "code",
      "execution_count": 1,
      "metadata": {
        "colab": {
          "base_uri": "https://localhost:8080/",
          "height": 957
        },
        "id": "KWwwg8GUoRrl",
        "outputId": "cc08b4ea-72e1-45d1-ce7d-38cfbad42993"
      },
      "outputs": [
        {
          "output_type": "execute_result",
          "data": {
            "text/html": [
              "\n",
              "  <div id=\"df-8dcbf0a4-69fd-41b0-bc0c-0f97d32cd74b\">\n",
              "    <div class=\"colab-df-container\">\n",
              "      <div>\n",
              "<style scoped>\n",
              "    .dataframe tbody tr th:only-of-type {\n",
              "        vertical-align: middle;\n",
              "    }\n",
              "\n",
              "    .dataframe tbody tr th {\n",
              "        vertical-align: top;\n",
              "    }\n",
              "\n",
              "    .dataframe thead th {\n",
              "        text-align: right;\n",
              "    }\n",
              "</style>\n",
              "<table border=\"1\" class=\"dataframe\">\n",
              "  <thead>\n",
              "    <tr style=\"text-align: right;\">\n",
              "      <th></th>\n",
              "      <th>Month</th>\n",
              "      <th>Zone - A</th>\n",
              "      <th>Zone - B</th>\n",
              "      <th>Zone - C</th>\n",
              "      <th>Zone - D</th>\n",
              "    </tr>\n",
              "  </thead>\n",
              "  <tbody>\n",
              "    <tr>\n",
              "      <th>0</th>\n",
              "      <td>Month - 1</td>\n",
              "      <td>1483525</td>\n",
              "      <td>1748451</td>\n",
              "      <td>1523308</td>\n",
              "      <td>2267260</td>\n",
              "    </tr>\n",
              "    <tr>\n",
              "      <th>1</th>\n",
              "      <td>Month - 2</td>\n",
              "      <td>1238428</td>\n",
              "      <td>1707421</td>\n",
              "      <td>2212113</td>\n",
              "      <td>1994341</td>\n",
              "    </tr>\n",
              "    <tr>\n",
              "      <th>2</th>\n",
              "      <td>Month - 3</td>\n",
              "      <td>1860771</td>\n",
              "      <td>2091194</td>\n",
              "      <td>1282374</td>\n",
              "      <td>1241600</td>\n",
              "    </tr>\n",
              "    <tr>\n",
              "      <th>3</th>\n",
              "      <td>Month - 4</td>\n",
              "      <td>1871571</td>\n",
              "      <td>1759617</td>\n",
              "      <td>2290580</td>\n",
              "      <td>2252681</td>\n",
              "    </tr>\n",
              "    <tr>\n",
              "      <th>4</th>\n",
              "      <td>Month - 5</td>\n",
              "      <td>1244922</td>\n",
              "      <td>1606010</td>\n",
              "      <td>1818334</td>\n",
              "      <td>1326062</td>\n",
              "    </tr>\n",
              "    <tr>\n",
              "      <th>5</th>\n",
              "      <td>Month - 6</td>\n",
              "      <td>1534390</td>\n",
              "      <td>1573128</td>\n",
              "      <td>1751825</td>\n",
              "      <td>2292044</td>\n",
              "    </tr>\n",
              "    <tr>\n",
              "      <th>6</th>\n",
              "      <td>Month - 7</td>\n",
              "      <td>1820196</td>\n",
              "      <td>1992031</td>\n",
              "      <td>1786826</td>\n",
              "      <td>1688055</td>\n",
              "    </tr>\n",
              "    <tr>\n",
              "      <th>7</th>\n",
              "      <td>Month - 8</td>\n",
              "      <td>1625696</td>\n",
              "      <td>1665534</td>\n",
              "      <td>2161754</td>\n",
              "      <td>2363315</td>\n",
              "    </tr>\n",
              "    <tr>\n",
              "      <th>8</th>\n",
              "      <td>Month - 9</td>\n",
              "      <td>1652644</td>\n",
              "      <td>1873402</td>\n",
              "      <td>1755290</td>\n",
              "      <td>1422059</td>\n",
              "    </tr>\n",
              "    <tr>\n",
              "      <th>9</th>\n",
              "      <td>Month - 10</td>\n",
              "      <td>1852450</td>\n",
              "      <td>1913059</td>\n",
              "      <td>1754314</td>\n",
              "      <td>1608387</td>\n",
              "    </tr>\n",
              "    <tr>\n",
              "      <th>10</th>\n",
              "      <td>Month - 11</td>\n",
              "      <td>2004480</td>\n",
              "      <td>1740365</td>\n",
              "      <td>1317869</td>\n",
              "      <td>1970069</td>\n",
              "    </tr>\n",
              "    <tr>\n",
              "      <th>11</th>\n",
              "      <td>Month - 12</td>\n",
              "      <td>1537539</td>\n",
              "      <td>1875658</td>\n",
              "      <td>1237722</td>\n",
              "      <td>1460165</td>\n",
              "    </tr>\n",
              "    <tr>\n",
              "      <th>12</th>\n",
              "      <td>Month - 13</td>\n",
              "      <td>1254939</td>\n",
              "      <td>1588473</td>\n",
              "      <td>1348629</td>\n",
              "      <td>1733383</td>\n",
              "    </tr>\n",
              "    <tr>\n",
              "      <th>13</th>\n",
              "      <td>Month - 14</td>\n",
              "      <td>1821799</td>\n",
              "      <td>1844081</td>\n",
              "      <td>1617376</td>\n",
              "      <td>1872259</td>\n",
              "    </tr>\n",
              "    <tr>\n",
              "      <th>14</th>\n",
              "      <td>Month - 15</td>\n",
              "      <td>1128185</td>\n",
              "      <td>1804613</td>\n",
              "      <td>1767047</td>\n",
              "      <td>1234311</td>\n",
              "    </tr>\n",
              "    <tr>\n",
              "      <th>15</th>\n",
              "      <td>Month - 16</td>\n",
              "      <td>1491534</td>\n",
              "      <td>1542053</td>\n",
              "      <td>1882159</td>\n",
              "      <td>1590913</td>\n",
              "    </tr>\n",
              "    <tr>\n",
              "      <th>16</th>\n",
              "      <td>Month - 17</td>\n",
              "      <td>1182110</td>\n",
              "      <td>1552388</td>\n",
              "      <td>2234469</td>\n",
              "      <td>2180416</td>\n",
              "    </tr>\n",
              "    <tr>\n",
              "      <th>17</th>\n",
              "      <td>Month - 18</td>\n",
              "      <td>1770324</td>\n",
              "      <td>1699213</td>\n",
              "      <td>1249821</td>\n",
              "      <td>2364132</td>\n",
              "    </tr>\n",
              "    <tr>\n",
              "      <th>18</th>\n",
              "      <td>Month - 19</td>\n",
              "      <td>1181635</td>\n",
              "      <td>1959268</td>\n",
              "      <td>2009168</td>\n",
              "      <td>1821882</td>\n",
              "    </tr>\n",
              "    <tr>\n",
              "      <th>19</th>\n",
              "      <td>Month - 20</td>\n",
              "      <td>1305972</td>\n",
              "      <td>1559670</td>\n",
              "      <td>2107949</td>\n",
              "      <td>2151008</td>\n",
              "    </tr>\n",
              "    <tr>\n",
              "      <th>20</th>\n",
              "      <td>Month - 21</td>\n",
              "      <td>1570152</td>\n",
              "      <td>2013615</td>\n",
              "      <td>1540016</td>\n",
              "      <td>2265814</td>\n",
              "    </tr>\n",
              "    <tr>\n",
              "      <th>21</th>\n",
              "      <td>Month - 22</td>\n",
              "      <td>1481619</td>\n",
              "      <td>1527574</td>\n",
              "      <td>2255729</td>\n",
              "      <td>2295079</td>\n",
              "    </tr>\n",
              "    <tr>\n",
              "      <th>22</th>\n",
              "      <td>Month - 23</td>\n",
              "      <td>1887694</td>\n",
              "      <td>1992155</td>\n",
              "      <td>1348387</td>\n",
              "      <td>1459683</td>\n",
              "    </tr>\n",
              "    <tr>\n",
              "      <th>23</th>\n",
              "      <td>Month - 24</td>\n",
              "      <td>1880820</td>\n",
              "      <td>1752873</td>\n",
              "      <td>2098463</td>\n",
              "      <td>2052591</td>\n",
              "    </tr>\n",
              "    <tr>\n",
              "      <th>24</th>\n",
              "      <td>Month - 25</td>\n",
              "      <td>1256333</td>\n",
              "      <td>1622671</td>\n",
              "      <td>1521792</td>\n",
              "      <td>1695122</td>\n",
              "    </tr>\n",
              "    <tr>\n",
              "      <th>25</th>\n",
              "      <td>Month - 26</td>\n",
              "      <td>1422853</td>\n",
              "      <td>1715465</td>\n",
              "      <td>1853636</td>\n",
              "      <td>1520406</td>\n",
              "    </tr>\n",
              "    <tr>\n",
              "      <th>26</th>\n",
              "      <td>Month - 27</td>\n",
              "      <td>1384426</td>\n",
              "      <td>1983163</td>\n",
              "      <td>1611169</td>\n",
              "      <td>1289160</td>\n",
              "    </tr>\n",
              "    <tr>\n",
              "      <th>27</th>\n",
              "      <td>Month - 28</td>\n",
              "      <td>1616640</td>\n",
              "      <td>1547991</td>\n",
              "      <td>2128022</td>\n",
              "      <td>2178267</td>\n",
              "    </tr>\n",
              "    <tr>\n",
              "      <th>28</th>\n",
              "      <td>Month - 29</td>\n",
              "      <td>1310654</td>\n",
              "      <td>1660092</td>\n",
              "      <td>1947119</td>\n",
              "      <td>1854412</td>\n",
              "    </tr>\n",
              "  </tbody>\n",
              "</table>\n",
              "</div>\n",
              "      <button class=\"colab-df-convert\" onclick=\"convertToInteractive('df-8dcbf0a4-69fd-41b0-bc0c-0f97d32cd74b')\"\n",
              "              title=\"Convert this dataframe to an interactive table.\"\n",
              "              style=\"display:none;\">\n",
              "        \n",
              "  <svg xmlns=\"http://www.w3.org/2000/svg\" height=\"24px\"viewBox=\"0 0 24 24\"\n",
              "       width=\"24px\">\n",
              "    <path d=\"M0 0h24v24H0V0z\" fill=\"none\"/>\n",
              "    <path d=\"M18.56 5.44l.94 2.06.94-2.06 2.06-.94-2.06-.94-.94-2.06-.94 2.06-2.06.94zm-11 1L8.5 8.5l.94-2.06 2.06-.94-2.06-.94L8.5 2.5l-.94 2.06-2.06.94zm10 10l.94 2.06.94-2.06 2.06-.94-2.06-.94-.94-2.06-.94 2.06-2.06.94z\"/><path d=\"M17.41 7.96l-1.37-1.37c-.4-.4-.92-.59-1.43-.59-.52 0-1.04.2-1.43.59L10.3 9.45l-7.72 7.72c-.78.78-.78 2.05 0 2.83L4 21.41c.39.39.9.59 1.41.59.51 0 1.02-.2 1.41-.59l7.78-7.78 2.81-2.81c.8-.78.8-2.07 0-2.86zM5.41 20L4 18.59l7.72-7.72 1.47 1.35L5.41 20z\"/>\n",
              "  </svg>\n",
              "      </button>\n",
              "      \n",
              "  <style>\n",
              "    .colab-df-container {\n",
              "      display:flex;\n",
              "      flex-wrap:wrap;\n",
              "      gap: 12px;\n",
              "    }\n",
              "\n",
              "    .colab-df-convert {\n",
              "      background-color: #E8F0FE;\n",
              "      border: none;\n",
              "      border-radius: 50%;\n",
              "      cursor: pointer;\n",
              "      display: none;\n",
              "      fill: #1967D2;\n",
              "      height: 32px;\n",
              "      padding: 0 0 0 0;\n",
              "      width: 32px;\n",
              "    }\n",
              "\n",
              "    .colab-df-convert:hover {\n",
              "      background-color: #E2EBFA;\n",
              "      box-shadow: 0px 1px 2px rgba(60, 64, 67, 0.3), 0px 1px 3px 1px rgba(60, 64, 67, 0.15);\n",
              "      fill: #174EA6;\n",
              "    }\n",
              "\n",
              "    [theme=dark] .colab-df-convert {\n",
              "      background-color: #3B4455;\n",
              "      fill: #D2E3FC;\n",
              "    }\n",
              "\n",
              "    [theme=dark] .colab-df-convert:hover {\n",
              "      background-color: #434B5C;\n",
              "      box-shadow: 0px 1px 3px 1px rgba(0, 0, 0, 0.15);\n",
              "      filter: drop-shadow(0px 1px 2px rgba(0, 0, 0, 0.3));\n",
              "      fill: #FFFFFF;\n",
              "    }\n",
              "  </style>\n",
              "\n",
              "      <script>\n",
              "        const buttonEl =\n",
              "          document.querySelector('#df-8dcbf0a4-69fd-41b0-bc0c-0f97d32cd74b button.colab-df-convert');\n",
              "        buttonEl.style.display =\n",
              "          google.colab.kernel.accessAllowed ? 'block' : 'none';\n",
              "\n",
              "        async function convertToInteractive(key) {\n",
              "          const element = document.querySelector('#df-8dcbf0a4-69fd-41b0-bc0c-0f97d32cd74b');\n",
              "          const dataTable =\n",
              "            await google.colab.kernel.invokeFunction('convertToInteractive',\n",
              "                                                     [key], {});\n",
              "          if (!dataTable) return;\n",
              "\n",
              "          const docLinkHtml = 'Like what you see? Visit the ' +\n",
              "            '<a target=\"_blank\" href=https://colab.research.google.com/notebooks/data_table.ipynb>data table notebook</a>'\n",
              "            + ' to learn more about interactive tables.';\n",
              "          element.innerHTML = '';\n",
              "          dataTable['output_type'] = 'display_data';\n",
              "          await google.colab.output.renderOutput(dataTable, element);\n",
              "          const docLink = document.createElement('div');\n",
              "          docLink.innerHTML = docLinkHtml;\n",
              "          element.appendChild(docLink);\n",
              "        }\n",
              "      </script>\n",
              "    </div>\n",
              "  </div>\n",
              "  "
            ],
            "text/plain": [
              "         Month  Zone - A  Zone - B  Zone - C  Zone - D\n",
              "0    Month - 1   1483525   1748451   1523308   2267260\n",
              "1    Month - 2   1238428   1707421   2212113   1994341\n",
              "2    Month - 3   1860771   2091194   1282374   1241600\n",
              "3    Month - 4   1871571   1759617   2290580   2252681\n",
              "4    Month - 5   1244922   1606010   1818334   1326062\n",
              "5    Month - 6   1534390   1573128   1751825   2292044\n",
              "6    Month - 7   1820196   1992031   1786826   1688055\n",
              "7    Month - 8   1625696   1665534   2161754   2363315\n",
              "8    Month - 9   1652644   1873402   1755290   1422059\n",
              "9   Month - 10   1852450   1913059   1754314   1608387\n",
              "10  Month - 11   2004480   1740365   1317869   1970069\n",
              "11  Month - 12   1537539   1875658   1237722   1460165\n",
              "12  Month - 13   1254939   1588473   1348629   1733383\n",
              "13  Month - 14   1821799   1844081   1617376   1872259\n",
              "14  Month - 15   1128185   1804613   1767047   1234311\n",
              "15  Month - 16   1491534   1542053   1882159   1590913\n",
              "16  Month - 17   1182110   1552388   2234469   2180416\n",
              "17  Month - 18   1770324   1699213   1249821   2364132\n",
              "18  Month - 19   1181635   1959268   2009168   1821882\n",
              "19  Month - 20   1305972   1559670   2107949   2151008\n",
              "20  Month - 21   1570152   2013615   1540016   2265814\n",
              "21  Month - 22   1481619   1527574   2255729   2295079\n",
              "22  Month - 23   1887694   1992155   1348387   1459683\n",
              "23  Month - 24   1880820   1752873   2098463   2052591\n",
              "24  Month - 25   1256333   1622671   1521792   1695122\n",
              "25  Month - 26   1422853   1715465   1853636   1520406\n",
              "26  Month - 27   1384426   1983163   1611169   1289160\n",
              "27  Month - 28   1616640   1547991   2128022   2178267\n",
              "28  Month - 29   1310654   1660092   1947119   1854412"
            ]
          },
          "metadata": {},
          "execution_count": 1
        }
      ],
      "source": [
        "# Importing input file\n",
        "import pandas as pd\n",
        "import numpy as np\n",
        "import matplotlib.pyplot as plt\n",
        "import seaborn as sns\n",
        "input_data=pd.read_csv('Sales.csv')\n",
        "input_data"
      ]
    },
    {
      "cell_type": "code",
      "source": [
        "#Basic operations\n",
        "#Checking null values\n",
        "input_data.isna().sum()"
      ],
      "metadata": {
        "colab": {
          "base_uri": "https://localhost:8080/"
        },
        "id": "xUHKy1u9olCf",
        "outputId": "68a11cd2-bf13-4b63-a8f1-ab5ae6be1c76"
      },
      "execution_count": 2,
      "outputs": [
        {
          "output_type": "execute_result",
          "data": {
            "text/plain": [
              "Month       0\n",
              "Zone - A    0\n",
              "Zone - B    0\n",
              "Zone - C    0\n",
              "Zone - D    0\n",
              "dtype: int64"
            ]
          },
          "metadata": {},
          "execution_count": 2
        }
      ]
    },
    {
      "cell_type": "code",
      "source": [
        "#Shape of Dataset\n",
        "input_data.shape"
      ],
      "metadata": {
        "colab": {
          "base_uri": "https://localhost:8080/"
        },
        "id": "bWfJ7Wpno27l",
        "outputId": "2cf37eb8-7c4f-497f-93c6-4efb3c4ff640"
      },
      "execution_count": 3,
      "outputs": [
        {
          "output_type": "execute_result",
          "data": {
            "text/plain": [
              "(29, 5)"
            ]
          },
          "metadata": {},
          "execution_count": 3
        }
      ]
    },
    {
      "cell_type": "code",
      "source": [
        "#Attributes with data type in the file\n",
        "input_data.info()"
      ],
      "metadata": {
        "colab": {
          "base_uri": "https://localhost:8080/"
        },
        "id": "o4Xw3ku2o5SU",
        "outputId": "4116b9b9-032b-4e65-a7a9-1c8f89bd761a"
      },
      "execution_count": 4,
      "outputs": [
        {
          "output_type": "stream",
          "name": "stdout",
          "text": [
            "<class 'pandas.core.frame.DataFrame'>\n",
            "RangeIndex: 29 entries, 0 to 28\n",
            "Data columns (total 5 columns):\n",
            " #   Column    Non-Null Count  Dtype \n",
            "---  ------    --------------  ----- \n",
            " 0   Month     29 non-null     object\n",
            " 1   Zone - A  29 non-null     int64 \n",
            " 2   Zone - B  29 non-null     int64 \n",
            " 3   Zone - C  29 non-null     int64 \n",
            " 4   Zone - D  29 non-null     int64 \n",
            "dtypes: int64(4), object(1)\n",
            "memory usage: 1.3+ KB\n"
          ]
        }
      ]
    },
    {
      "cell_type": "code",
      "source": [
        "#The mean sales generated by each zone\n",
        "input_data.mean()"
      ],
      "metadata": {
        "colab": {
          "base_uri": "https://localhost:8080/"
        },
        "id": "OoBBhLbIpKHG",
        "outputId": "07a3269d-b0b2-41c1-f241-feb05006105d"
      },
      "execution_count": 6,
      "outputs": [
        {
          "output_type": "execute_result",
          "data": {
            "text/plain": [
              "Zone - A    1.540493e+06\n",
              "Zone - B    1.755560e+06\n",
              "Zone - C    1.772871e+06\n",
              "Zone - D    1.842927e+06\n",
              "dtype: float64"
            ]
          },
          "metadata": {},
          "execution_count": 6
        }
      ]
    },
    {
      "cell_type": "markdown",
      "source": [
        "\n",
        "Zone D is with Big median and Zone A with Low median\n",
        "  **Sales at zone D HIGH and zone A with LOW sales**"
      ],
      "metadata": {
        "id": "mfuSsKMrpoE2"
      }
    },
    {
      "cell_type": "code",
      "source": [
        "#Total sales generated by all the zones for each month.\n",
        "input_data.groupby(['Month']).sum()"
      ],
      "metadata": {
        "colab": {
          "base_uri": "https://localhost:8080/",
          "height": 990
        },
        "id": "ga-muL8ypyqE",
        "outputId": "f7da873b-44e7-40fb-e587-8a4ad0ce49da"
      },
      "execution_count": 9,
      "outputs": [
        {
          "output_type": "execute_result",
          "data": {
            "text/html": [
              "\n",
              "  <div id=\"df-914a12ae-9907-40a4-9b42-7464abaf3388\">\n",
              "    <div class=\"colab-df-container\">\n",
              "      <div>\n",
              "<style scoped>\n",
              "    .dataframe tbody tr th:only-of-type {\n",
              "        vertical-align: middle;\n",
              "    }\n",
              "\n",
              "    .dataframe tbody tr th {\n",
              "        vertical-align: top;\n",
              "    }\n",
              "\n",
              "    .dataframe thead th {\n",
              "        text-align: right;\n",
              "    }\n",
              "</style>\n",
              "<table border=\"1\" class=\"dataframe\">\n",
              "  <thead>\n",
              "    <tr style=\"text-align: right;\">\n",
              "      <th></th>\n",
              "      <th>Zone - A</th>\n",
              "      <th>Zone - B</th>\n",
              "      <th>Zone - C</th>\n",
              "      <th>Zone - D</th>\n",
              "    </tr>\n",
              "    <tr>\n",
              "      <th>Month</th>\n",
              "      <th></th>\n",
              "      <th></th>\n",
              "      <th></th>\n",
              "      <th></th>\n",
              "    </tr>\n",
              "  </thead>\n",
              "  <tbody>\n",
              "    <tr>\n",
              "      <th>Month - 1</th>\n",
              "      <td>1483525</td>\n",
              "      <td>1748451</td>\n",
              "      <td>1523308</td>\n",
              "      <td>2267260</td>\n",
              "    </tr>\n",
              "    <tr>\n",
              "      <th>Month - 10</th>\n",
              "      <td>1852450</td>\n",
              "      <td>1913059</td>\n",
              "      <td>1754314</td>\n",
              "      <td>1608387</td>\n",
              "    </tr>\n",
              "    <tr>\n",
              "      <th>Month - 11</th>\n",
              "      <td>2004480</td>\n",
              "      <td>1740365</td>\n",
              "      <td>1317869</td>\n",
              "      <td>1970069</td>\n",
              "    </tr>\n",
              "    <tr>\n",
              "      <th>Month - 12</th>\n",
              "      <td>1537539</td>\n",
              "      <td>1875658</td>\n",
              "      <td>1237722</td>\n",
              "      <td>1460165</td>\n",
              "    </tr>\n",
              "    <tr>\n",
              "      <th>Month - 13</th>\n",
              "      <td>1254939</td>\n",
              "      <td>1588473</td>\n",
              "      <td>1348629</td>\n",
              "      <td>1733383</td>\n",
              "    </tr>\n",
              "    <tr>\n",
              "      <th>Month - 14</th>\n",
              "      <td>1821799</td>\n",
              "      <td>1844081</td>\n",
              "      <td>1617376</td>\n",
              "      <td>1872259</td>\n",
              "    </tr>\n",
              "    <tr>\n",
              "      <th>Month - 15</th>\n",
              "      <td>1128185</td>\n",
              "      <td>1804613</td>\n",
              "      <td>1767047</td>\n",
              "      <td>1234311</td>\n",
              "    </tr>\n",
              "    <tr>\n",
              "      <th>Month - 16</th>\n",
              "      <td>1491534</td>\n",
              "      <td>1542053</td>\n",
              "      <td>1882159</td>\n",
              "      <td>1590913</td>\n",
              "    </tr>\n",
              "    <tr>\n",
              "      <th>Month - 17</th>\n",
              "      <td>1182110</td>\n",
              "      <td>1552388</td>\n",
              "      <td>2234469</td>\n",
              "      <td>2180416</td>\n",
              "    </tr>\n",
              "    <tr>\n",
              "      <th>Month - 18</th>\n",
              "      <td>1770324</td>\n",
              "      <td>1699213</td>\n",
              "      <td>1249821</td>\n",
              "      <td>2364132</td>\n",
              "    </tr>\n",
              "    <tr>\n",
              "      <th>Month - 19</th>\n",
              "      <td>1181635</td>\n",
              "      <td>1959268</td>\n",
              "      <td>2009168</td>\n",
              "      <td>1821882</td>\n",
              "    </tr>\n",
              "    <tr>\n",
              "      <th>Month - 2</th>\n",
              "      <td>1238428</td>\n",
              "      <td>1707421</td>\n",
              "      <td>2212113</td>\n",
              "      <td>1994341</td>\n",
              "    </tr>\n",
              "    <tr>\n",
              "      <th>Month - 20</th>\n",
              "      <td>1305972</td>\n",
              "      <td>1559670</td>\n",
              "      <td>2107949</td>\n",
              "      <td>2151008</td>\n",
              "    </tr>\n",
              "    <tr>\n",
              "      <th>Month - 21</th>\n",
              "      <td>1570152</td>\n",
              "      <td>2013615</td>\n",
              "      <td>1540016</td>\n",
              "      <td>2265814</td>\n",
              "    </tr>\n",
              "    <tr>\n",
              "      <th>Month - 22</th>\n",
              "      <td>1481619</td>\n",
              "      <td>1527574</td>\n",
              "      <td>2255729</td>\n",
              "      <td>2295079</td>\n",
              "    </tr>\n",
              "    <tr>\n",
              "      <th>Month - 23</th>\n",
              "      <td>1887694</td>\n",
              "      <td>1992155</td>\n",
              "      <td>1348387</td>\n",
              "      <td>1459683</td>\n",
              "    </tr>\n",
              "    <tr>\n",
              "      <th>Month - 24</th>\n",
              "      <td>1880820</td>\n",
              "      <td>1752873</td>\n",
              "      <td>2098463</td>\n",
              "      <td>2052591</td>\n",
              "    </tr>\n",
              "    <tr>\n",
              "      <th>Month - 25</th>\n",
              "      <td>1256333</td>\n",
              "      <td>1622671</td>\n",
              "      <td>1521792</td>\n",
              "      <td>1695122</td>\n",
              "    </tr>\n",
              "    <tr>\n",
              "      <th>Month - 26</th>\n",
              "      <td>1422853</td>\n",
              "      <td>1715465</td>\n",
              "      <td>1853636</td>\n",
              "      <td>1520406</td>\n",
              "    </tr>\n",
              "    <tr>\n",
              "      <th>Month - 27</th>\n",
              "      <td>1384426</td>\n",
              "      <td>1983163</td>\n",
              "      <td>1611169</td>\n",
              "      <td>1289160</td>\n",
              "    </tr>\n",
              "    <tr>\n",
              "      <th>Month - 28</th>\n",
              "      <td>1616640</td>\n",
              "      <td>1547991</td>\n",
              "      <td>2128022</td>\n",
              "      <td>2178267</td>\n",
              "    </tr>\n",
              "    <tr>\n",
              "      <th>Month - 29</th>\n",
              "      <td>1310654</td>\n",
              "      <td>1660092</td>\n",
              "      <td>1947119</td>\n",
              "      <td>1854412</td>\n",
              "    </tr>\n",
              "    <tr>\n",
              "      <th>Month - 3</th>\n",
              "      <td>1860771</td>\n",
              "      <td>2091194</td>\n",
              "      <td>1282374</td>\n",
              "      <td>1241600</td>\n",
              "    </tr>\n",
              "    <tr>\n",
              "      <th>Month - 4</th>\n",
              "      <td>1871571</td>\n",
              "      <td>1759617</td>\n",
              "      <td>2290580</td>\n",
              "      <td>2252681</td>\n",
              "    </tr>\n",
              "    <tr>\n",
              "      <th>Month - 5</th>\n",
              "      <td>1244922</td>\n",
              "      <td>1606010</td>\n",
              "      <td>1818334</td>\n",
              "      <td>1326062</td>\n",
              "    </tr>\n",
              "    <tr>\n",
              "      <th>Month - 6</th>\n",
              "      <td>1534390</td>\n",
              "      <td>1573128</td>\n",
              "      <td>1751825</td>\n",
              "      <td>2292044</td>\n",
              "    </tr>\n",
              "    <tr>\n",
              "      <th>Month - 7</th>\n",
              "      <td>1820196</td>\n",
              "      <td>1992031</td>\n",
              "      <td>1786826</td>\n",
              "      <td>1688055</td>\n",
              "    </tr>\n",
              "    <tr>\n",
              "      <th>Month - 8</th>\n",
              "      <td>1625696</td>\n",
              "      <td>1665534</td>\n",
              "      <td>2161754</td>\n",
              "      <td>2363315</td>\n",
              "    </tr>\n",
              "    <tr>\n",
              "      <th>Month - 9</th>\n",
              "      <td>1652644</td>\n",
              "      <td>1873402</td>\n",
              "      <td>1755290</td>\n",
              "      <td>1422059</td>\n",
              "    </tr>\n",
              "  </tbody>\n",
              "</table>\n",
              "</div>\n",
              "      <button class=\"colab-df-convert\" onclick=\"convertToInteractive('df-914a12ae-9907-40a4-9b42-7464abaf3388')\"\n",
              "              title=\"Convert this dataframe to an interactive table.\"\n",
              "              style=\"display:none;\">\n",
              "        \n",
              "  <svg xmlns=\"http://www.w3.org/2000/svg\" height=\"24px\"viewBox=\"0 0 24 24\"\n",
              "       width=\"24px\">\n",
              "    <path d=\"M0 0h24v24H0V0z\" fill=\"none\"/>\n",
              "    <path d=\"M18.56 5.44l.94 2.06.94-2.06 2.06-.94-2.06-.94-.94-2.06-.94 2.06-2.06.94zm-11 1L8.5 8.5l.94-2.06 2.06-.94-2.06-.94L8.5 2.5l-.94 2.06-2.06.94zm10 10l.94 2.06.94-2.06 2.06-.94-2.06-.94-.94-2.06-.94 2.06-2.06.94z\"/><path d=\"M17.41 7.96l-1.37-1.37c-.4-.4-.92-.59-1.43-.59-.52 0-1.04.2-1.43.59L10.3 9.45l-7.72 7.72c-.78.78-.78 2.05 0 2.83L4 21.41c.39.39.9.59 1.41.59.51 0 1.02-.2 1.41-.59l7.78-7.78 2.81-2.81c.8-.78.8-2.07 0-2.86zM5.41 20L4 18.59l7.72-7.72 1.47 1.35L5.41 20z\"/>\n",
              "  </svg>\n",
              "      </button>\n",
              "      \n",
              "  <style>\n",
              "    .colab-df-container {\n",
              "      display:flex;\n",
              "      flex-wrap:wrap;\n",
              "      gap: 12px;\n",
              "    }\n",
              "\n",
              "    .colab-df-convert {\n",
              "      background-color: #E8F0FE;\n",
              "      border: none;\n",
              "      border-radius: 50%;\n",
              "      cursor: pointer;\n",
              "      display: none;\n",
              "      fill: #1967D2;\n",
              "      height: 32px;\n",
              "      padding: 0 0 0 0;\n",
              "      width: 32px;\n",
              "    }\n",
              "\n",
              "    .colab-df-convert:hover {\n",
              "      background-color: #E2EBFA;\n",
              "      box-shadow: 0px 1px 2px rgba(60, 64, 67, 0.3), 0px 1px 3px 1px rgba(60, 64, 67, 0.15);\n",
              "      fill: #174EA6;\n",
              "    }\n",
              "\n",
              "    [theme=dark] .colab-df-convert {\n",
              "      background-color: #3B4455;\n",
              "      fill: #D2E3FC;\n",
              "    }\n",
              "\n",
              "    [theme=dark] .colab-df-convert:hover {\n",
              "      background-color: #434B5C;\n",
              "      box-shadow: 0px 1px 3px 1px rgba(0, 0, 0, 0.15);\n",
              "      filter: drop-shadow(0px 1px 2px rgba(0, 0, 0, 0.3));\n",
              "      fill: #FFFFFF;\n",
              "    }\n",
              "  </style>\n",
              "\n",
              "      <script>\n",
              "        const buttonEl =\n",
              "          document.querySelector('#df-914a12ae-9907-40a4-9b42-7464abaf3388 button.colab-df-convert');\n",
              "        buttonEl.style.display =\n",
              "          google.colab.kernel.accessAllowed ? 'block' : 'none';\n",
              "\n",
              "        async function convertToInteractive(key) {\n",
              "          const element = document.querySelector('#df-914a12ae-9907-40a4-9b42-7464abaf3388');\n",
              "          const dataTable =\n",
              "            await google.colab.kernel.invokeFunction('convertToInteractive',\n",
              "                                                     [key], {});\n",
              "          if (!dataTable) return;\n",
              "\n",
              "          const docLinkHtml = 'Like what you see? Visit the ' +\n",
              "            '<a target=\"_blank\" href=https://colab.research.google.com/notebooks/data_table.ipynb>data table notebook</a>'\n",
              "            + ' to learn more about interactive tables.';\n",
              "          element.innerHTML = '';\n",
              "          dataTable['output_type'] = 'display_data';\n",
              "          await google.colab.output.renderOutput(dataTable, element);\n",
              "          const docLink = document.createElement('div');\n",
              "          docLink.innerHTML = docLinkHtml;\n",
              "          element.appendChild(docLink);\n",
              "        }\n",
              "      </script>\n",
              "    </div>\n",
              "  </div>\n",
              "  "
            ],
            "text/plain": [
              "            Zone - A  Zone - B  Zone - C  Zone - D\n",
              "Month                                             \n",
              "Month - 1    1483525   1748451   1523308   2267260\n",
              "Month - 10   1852450   1913059   1754314   1608387\n",
              "Month - 11   2004480   1740365   1317869   1970069\n",
              "Month - 12   1537539   1875658   1237722   1460165\n",
              "Month - 13   1254939   1588473   1348629   1733383\n",
              "Month - 14   1821799   1844081   1617376   1872259\n",
              "Month - 15   1128185   1804613   1767047   1234311\n",
              "Month - 16   1491534   1542053   1882159   1590913\n",
              "Month - 17   1182110   1552388   2234469   2180416\n",
              "Month - 18   1770324   1699213   1249821   2364132\n",
              "Month - 19   1181635   1959268   2009168   1821882\n",
              "Month - 2    1238428   1707421   2212113   1994341\n",
              "Month - 20   1305972   1559670   2107949   2151008\n",
              "Month - 21   1570152   2013615   1540016   2265814\n",
              "Month - 22   1481619   1527574   2255729   2295079\n",
              "Month - 23   1887694   1992155   1348387   1459683\n",
              "Month - 24   1880820   1752873   2098463   2052591\n",
              "Month - 25   1256333   1622671   1521792   1695122\n",
              "Month - 26   1422853   1715465   1853636   1520406\n",
              "Month - 27   1384426   1983163   1611169   1289160\n",
              "Month - 28   1616640   1547991   2128022   2178267\n",
              "Month - 29   1310654   1660092   1947119   1854412\n",
              "Month - 3    1860771   2091194   1282374   1241600\n",
              "Month - 4    1871571   1759617   2290580   2252681\n",
              "Month - 5    1244922   1606010   1818334   1326062\n",
              "Month - 6    1534390   1573128   1751825   2292044\n",
              "Month - 7    1820196   1992031   1786826   1688055\n",
              "Month - 8    1625696   1665534   2161754   2363315\n",
              "Month - 9    1652644   1873402   1755290   1422059"
            ]
          },
          "metadata": {},
          "execution_count": 9
        }
      ]
    },
    {
      "cell_type": "code",
      "source": [
        "# Insight\n",
        "zone=input_data.groupby(['Month']).sum()\n",
        "zone.max()"
      ],
      "metadata": {
        "colab": {
          "base_uri": "https://localhost:8080/"
        },
        "id": "waJK4j2Np-Ma",
        "outputId": "a7fa059e-3d6d-43c7-f028-a59e52266b88"
      },
      "execution_count": 13,
      "outputs": [
        {
          "output_type": "execute_result",
          "data": {
            "text/plain": [
              "Zone - A    2004480\n",
              "Zone - B    2091194\n",
              "Zone - C    2290580\n",
              "Zone - D    2364132\n",
              "dtype: int64"
            ]
          },
          "metadata": {},
          "execution_count": 13
        }
      ]
    },
    {
      "cell_type": "markdown",
      "source": [
        "Zone D with a maximum sale of **2364132**"
      ],
      "metadata": {
        "id": "vHwwgJ3OrsLz"
      }
    },
    {
      "cell_type": "code",
      "source": [
        "# Insight\n",
        "zone.min()"
      ],
      "metadata": {
        "colab": {
          "base_uri": "https://localhost:8080/"
        },
        "id": "ZmkVdrkVrz5D",
        "outputId": "6100f8ba-d27c-4e42-f527-c38834d1b3c7"
      },
      "execution_count": 18,
      "outputs": [
        {
          "output_type": "execute_result",
          "data": {
            "text/plain": [
              "Zone - A    1128185\n",
              "Zone - B    1527574\n",
              "Zone - C    1237722\n",
              "Zone - D    1234311\n",
              "dtype: int64"
            ]
          },
          "metadata": {},
          "execution_count": 18
        }
      ]
    },
    {
      "cell_type": "markdown",
      "source": [
        "Zone A with a minmum sale of **1128185**"
      ],
      "metadata": {
        "id": "q2qrUKw8r4i7"
      }
    },
    {
      "cell_type": "code",
      "source": [
        "#Diagram Repesentaiton of sales\n",
        "import matplotlib.pyplot as plt\n",
        "import numpy as np\n",
        "x=input_data['Month']\n",
        "y1=input_data['Zone - A']\n",
        "plt.title('Month Vs Zone Sales')\n",
        "plt.plot(x,y1)  # Plot the chart\n",
        "plt.show()  # display"
      ],
      "metadata": {
        "id": "3Zr_HUk0wbD0",
        "outputId": "cc78a24b-025f-470e-e7e0-8d3193a5ae65",
        "colab": {
          "base_uri": "https://localhost:8080/",
          "height": 281
        }
      },
      "execution_count": 27,
      "outputs": [
        {
          "output_type": "display_data",
          "data": {
            "image/png": "[encoded data removed]",
            "text/plain": [
              "<Figure size 432x288 with 1 Axes>"
            ]
          },
          "metadata": {
            "needs_background": "light"
          }
        }
      ]
    },
    {
      "cell_type": "code",
      "source": [
        "#Diagram Repesentaiton of sales\n",
        "import matplotlib.pyplot as plt\n",
        "import numpy as np\n",
        "x=input_data['Month']\n",
        "y2=input_data['Zone - B']\n",
        "plt.title('Month Vs Zone Sales')\n",
        "plt.plot(x,y2)  # Plot the chart\n",
        "plt.show()  # display"
      ],
      "metadata": {
        "id": "Uv9hTpsvwfhy",
        "outputId": "10850718-ebff-4c4a-c5a0-455c7dcbc2ba",
        "colab": {
          "base_uri": "https://localhost:8080/",
          "height": 281
        }
      },
      "execution_count": 28,
      "outputs": [
        {
          "output_type": "display_data",
          "data": {
            "image/png": "[encoded data removed]",
            "text/plain": [
              "<Figure size 432x288 with 1 Axes>"
            ]
          },
          "metadata": {
            "needs_background": "light"
          }
        }
      ]
    },
    {
      "cell_type": "code",
      "source": [
        "#Diagram Repesentaiton of sales\n",
        "import matplotlib.pyplot as plt\n",
        "import numpy as np\n",
        "x=input_data['Month']\n",
        "y3=input_data['Zone - C']\n",
        "plt.title('Month Vs Zone Sales')\n",
        "plt.plot(x,y3)  # Plot the chart\n",
        "plt.show()  # display"
      ],
      "metadata": {
        "id": "2r8sSnTDwmvW",
        "outputId": "49b0d0c6-e608-4779-9a57-a90c400bea6b",
        "colab": {
          "base_uri": "https://localhost:8080/",
          "height": 281
        }
      },
      "execution_count": 29,
      "outputs": [
        {
          "output_type": "display_data",
          "data": {
            "image/png": "[encoded data removed]",
            "text/plain": [
              "<Figure size 432x288 with 1 Axes>"
            ]
          },
          "metadata": {
            "needs_background": "light"
          }
        }
      ]
    },
    {
      "cell_type": "code",
      "source": [
        "#Diagram Repesentaiton of sales\n",
        "import matplotlib.pyplot as plt\n",
        "import numpy as np\n",
        "x=input_data['Month']\n",
        "y4=input_data['Zone - D']\n",
        "plt.title('Month Vs Zone Sales')\n",
        "plt.plot(x,y4)  # Plot the chart\n",
        "plt.show()  # display"
      ],
      "metadata": {
        "id": "LQSDcWELwtVy",
        "outputId": "1e20675b-b0c5-439d-ac50-e7ba6d9725a8",
        "colab": {
          "base_uri": "https://localhost:8080/",
          "height": 281
        }
      },
      "execution_count": 30,
      "outputs": [
        {
          "output_type": "display_data",
          "data": {
            "image/png": "[encoded data removed]",
            "text/plain": [
              "<Figure size 432x288 with 1 Axes>"
            ]
          },
          "metadata": {
            "needs_background": "light"
          }
        }
      ]
    },
    {
      "cell_type": "code",
      "source": [
        "#Check whether all the zones generate the same amount of sales.\n",
        "#H0 : All Zones Generate the same amount of Sale\n",
        "#Ha : All Zones Genearate diiferent amount of Sale\n",
        "import scipy.stats as stats\n",
        "# stats f_oneway functions takes the groups as input and returns ANOVA F and p value\n",
        "fvalue, pvalue = stats.f_oneway(input_data['Zone - A'], input_data['Zone - B'], input_data['Zone - C'], input_data['Zone - D'])\n",
        "print(fvalue, pvalue)"
      ],
      "metadata": {
        "colab": {
          "base_uri": "https://localhost:8080/"
        },
        "id": "PqrePiEusQij",
        "outputId": "63903a90-59a0-43f5-b7b8-4f654bff4759"
      },
      "execution_count": 16,
      "outputs": [
        {
          "output_type": "stream",
          "name": "stdout",
          "text": [
            "5.672056106843581 0.0011827601694503335\n"
          ]
        }
      ]
    },
    {
      "cell_type": "markdown",
      "source": [
        "**Insights:**\n",
        "Since our p-value is << 0.05, we have strong evidence against null hypothesis.\n",
        "So we reject our null hypothesis and accept the alternative.\n",
        "**All Zones Genearate diiferent amount of Sale**"
      ],
      "metadata": {
        "id": "6FqIQpxts5U1"
      }
    },
    {
      "cell_type": "code",
      "source": [
        "#Diagram Repesentaiton of sales\n",
        "import matplotlib.pyplot as plt\n",
        "import numpy as np\n",
        "x=input_data['Month']\n",
        "y1=input_data['Zone - A']\n",
        "y2=input_data['Zone - B']\n",
        "y3=input_data['Zone - C']\n",
        "y4=input_data['Zone - D']\n",
        "plt.title('Month Vs Zone Sales')\n",
        "plt.plot(x,y1,y2,y3,y4)  # Plot the chart\n",
        "plt.show()  # display"
      ],
      "metadata": {
        "colab": {
          "base_uri": "https://localhost:8080/",
          "height": 281
        },
        "id": "GyBaVMC5uQuP",
        "outputId": "c5d72e9e-7311-4566-935d-d59d114c6b08"
      },
      "execution_count": 26,
      "outputs": [
        {
          "output_type": "display_data",
          "data": {
            "image/png": "[encoded data removed]",
            "text/plain": [
              "<Figure size 432x288 with 1 Axes>"
            ]
          },
          "metadata": {
            "needs_background": "light"
          }
        }
      ]
    },
    {
      "cell_type": "code",
      "source": [
        ""
      ],
      "metadata": {
        "id": "js2LsrwWvgQ-"
      },
      "execution_count": null,
      "outputs": []
    }
  ]
}