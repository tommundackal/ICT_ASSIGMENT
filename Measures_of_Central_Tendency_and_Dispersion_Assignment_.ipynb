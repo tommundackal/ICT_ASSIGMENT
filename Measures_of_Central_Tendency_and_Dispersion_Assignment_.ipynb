{
  "nbformat": 4,
  "nbformat_minor": 0,
  "metadata": {
    "colab": {
      "name": "Measures of Central Tendency and Dispersion Assignment .ipynb",
      "provenance": [],
      "collapsed_sections": []
    },
    "kernelspec": {
      "name": "python3",
      "display_name": "Python 3"
    },
    "language_info": {
      "name": "python"
    }
  },
  "cells": [
    {
      "cell_type": "code",
      "metadata": {
        "id": "t3uFTdzioq0c"
      },
      "source": [
        "#Load the File for processing\n",
        "import numpy as np\n",
        "import pandas as pd\n",
        "import matplotlib.pyplot as plt\n",
        "import seaborn as sns\n",
        "input_data =pd.read_csv('StudentsPerformance.csv')\n",
        "input_data\n"
      ],
      "execution_count": null,
      "outputs": []
    },
    {
      "cell_type": "code",
      "metadata": {
        "colab": {
          "base_uri": "https://localhost:8080/",
          "height": 323
        },
        "id": "d_CnGi04pVLk",
        "outputId": "3fa07b48-ad4c-4ad9-be69-38b96d705bc0"
      },
      "source": [
        "#Find out how many males and females participated in the test.\n",
        "int_male =input_data['gender'].tolist().count('female')\n",
        "int_female=input_data['gender'].tolist().count('male')\n",
        "print('Male count is:',int_male)\n",
        "print('Female count is:',int_female)\n",
        "#Graphical repersentation\n",
        "plt.title('Gender Comparison ',fontsize=20,fontweight='bold')\n",
        "gender = ['Male','Female']\n",
        "count = [int_male,int_female]\n",
        "plt.bar(gender,count)\n",
        "plt.show()\n",
        "\n"
      ],
      "execution_count": 3,
      "outputs": [
        {
          "output_type": "stream",
          "name": "stdout",
          "text": [
            "Male count is: 518\n",
            "Female count is: 482\n"
          ]
        },
        {
          "output_type": "display_data",
          "data": {
            "image/png": "[encoded data removed]",
            "text/plain": [
              "<Figure size 432x288 with 1 Axes>"
            ]
          },
          "metadata": {
            "needs_background": "light"
          }
        }
      ]
    },
    {
      "cell_type": "code",
      "metadata": {
        "colab": {
          "base_uri": "https://localhost:8080/"
        },
        "id": "8PNVeN0tqKuV",
        "outputId": "055bcfa8-3ceb-4622-d4af-429386b1fbe3"
      },
      "source": [
        "# What do you think about the students' parental level of education?\n",
        "int_p_education=input_data.groupby(['parental level of education']).count()\n",
        "int_p_education['gender']\n",
        "\n"
      ],
      "execution_count": 2,
      "outputs": [
        {
          "output_type": "execute_result",
          "data": {
            "text/plain": [
              "parental level of education\n",
              "associate's degree    222\n",
              "bachelor's degree     118\n",
              "high school           196\n",
              "master's degree        59\n",
              "some college          226\n",
              "some high school      179\n",
              "Name: gender, dtype: int64"
            ]
          },
          "metadata": {},
          "execution_count": 2
        }
      ]
    },
    {
      "cell_type": "code",
      "metadata": {
        "colab": {
          "base_uri": "https://localhost:8080/"
        },
        "id": "7sUp9h6Hxs6j",
        "outputId": "a610a28a-acf0-400b-abce-1292f53b4eea"
      },
      "source": [
        "# Who scores the most on average for math, reading and writing based on  Gender  Test preparation course\n",
        "maths_mark=input_data.groupby(['race/ethnicity','gender','test preparation course'],as_index=True).agg({'math score':'max'})\n",
        "reading_mark=input_data.groupby(['race/ethnicity','gender','test preparation course'],as_index=True).agg({'reading score':'max'})\n",
        "writing_mark=input_data.groupby(['race/ethnicity','gender','test preparation course'],as_index=True).agg({'writing score':'max'})\n",
        "print(maths_mark)\n",
        "print(reading_mark)\n",
        "print(writing_mark)"
      ],
      "execution_count": 4,
      "outputs": [
        {
          "output_type": "stream",
          "name": "stdout",
          "text": [
            "                                               math score\n",
            "race/ethnicity gender test preparation course            \n",
            "group A        female completed                        92\n",
            "                      none                             82\n",
            "               male   completed                       100\n",
            "                      none                             91\n",
            "group B        female completed                        94\n",
            "                      none                             97\n",
            "               male   completed                        94\n",
            "                      none                             90\n",
            "group C        female completed                        96\n",
            "                      none                             91\n",
            "               male   completed                        98\n",
            "                      none                             97\n",
            "group D        female completed                        97\n",
            "                      none                             98\n",
            "               male   completed                       100\n",
            "                      none                             95\n",
            "group E        female completed                        99\n",
            "                      none                            100\n",
            "               male   completed                       100\n",
            "                      none                             97\n",
            "                                               reading score\n",
            "race/ethnicity gender test preparation course               \n",
            "group A        female completed                          100\n",
            "                      none                                93\n",
            "               male   completed                           96\n",
            "                      none                                96\n",
            "group B        female completed                           97\n",
            "                      none                                97\n",
            "               male   completed                           96\n",
            "                      none                                85\n",
            "group C        female completed                          100\n",
            "                      none                                95\n",
            "               male   completed                          100\n",
            "                      none                                93\n",
            "group D        female completed                          100\n",
            "                      none                               100\n",
            "               male   completed                           97\n",
            "                      none                                87\n",
            "group E        female completed                          100\n",
            "                      none                               100\n",
            "               male   completed                          100\n",
            "                      none                                90\n",
            "                                               writing score\n",
            "race/ethnicity gender test preparation course               \n",
            "group A        female completed                           97\n",
            "                      none                                93\n",
            "               male   completed                           87\n",
            "                      none                                92\n",
            "group B        female completed                           94\n",
            "                      none                                96\n",
            "               male   completed                           92\n",
            "                      none                                81\n",
            "group C        female completed                          100\n",
            "                      none                                95\n",
            "               male   completed                           95\n",
            "                      none                                91\n",
            "group D        female completed                          100\n",
            "                      none                               100\n",
            "               male   completed                           99\n",
            "                      none                                89\n",
            "group E        female completed                          100\n",
            "                      none                               100\n",
            "               male   completed                          100\n",
            "                      none                                84\n"
          ]
        }
      ]
    },
    {
      "cell_type": "code",
      "metadata": {
        "colab": {
          "base_uri": "https://localhost:8080/"
        },
        "id": "yCOiQE0Z0liF",
        "outputId": "d12c794c-5166-4ef9-ad39-4feda781f207"
      },
      "source": [
        "# What do you think about the scoring variation for math, reading and writing based on  Gender  Test preparation course\n",
        "print('Analysis')\n",
        "maths_mark_max=input_data.groupby(['gender','test preparation course'],as_index=False).agg({'math score':'max'})\n",
        "reading_mark_max=input_data.groupby(['gender','test preparation course'],as_index=False).agg({'reading score':'max'})\n",
        "writing_mark_max=input_data.groupby(['gender','test preparation course'],as_index=False).agg({'writing score':'max'})\n",
        "print('Maximum Marks Obtained')\n",
        "print(maths_mark_max)\n",
        "print(reading_mark_max)\n",
        "print(writing_mark_max)\n",
        "maths_mark=input_data.groupby(['gender','test preparation course'],as_index=False).agg({'math score':'median'})\n",
        "reading_mark=input_data.groupby(['gender','test preparation course'],as_index=False).agg({'reading score':'median'})\n",
        "writing_mark=input_data.groupby(['gender','test preparation course'],as_index=False).agg({'writing score':'median'})\n",
        "print('Median Marks Obtained')\n",
        "print(maths_mark)\n",
        "print(reading_mark)\n",
        "print(writing_mark)\n",
        "maths_mark_min=input_data.groupby(['gender','test preparation course'],as_index=False).agg({'math score':'min'})\n",
        "reading_mark_min=input_data.groupby(['gender','test preparation course'],as_index=False).agg({'reading score':'min'})\n",
        "writing_mark_min=input_data.groupby(['gender','test preparation course'],as_index=False).agg({'writing score':'min'})\n",
        "print('Minimum Marks Obtained')\n",
        "print(maths_mark_min)\n",
        "print(reading_mark_min)\n",
        "print(writing_mark_min)\n"
      ],
      "execution_count": 8,
      "outputs": [
        {
          "output_type": "stream",
          "name": "stdout",
          "text": [
            "Analysis\n",
            "Maximum Marks Obtained\n",
            "   gender test preparation course  math score\n",
            "0  female               completed          99\n",
            "1  female                    none         100\n",
            "2    male               completed         100\n",
            "3    male                    none          97\n",
            "   gender test preparation course  reading score\n",
            "0  female               completed            100\n",
            "1  female                    none            100\n",
            "2    male               completed            100\n",
            "3    male                    none             96\n",
            "   gender test preparation course  writing score\n",
            "0  female               completed            100\n",
            "1  female                    none            100\n",
            "2    male               completed            100\n",
            "3    male                    none             92\n",
            "Median Marks Obtained\n",
            "   gender test preparation course  math score\n",
            "0  female               completed          67\n",
            "1  female                    none          62\n",
            "2    male               completed          74\n",
            "3    male                    none          67\n",
            "   gender test preparation course  reading score\n",
            "0  female               completed             78\n",
            "1  female                    none             71\n",
            "2    male               completed             72\n",
            "3    male                    none             63\n",
            "   gender test preparation course  writing score\n",
            "0  female               completed             79\n",
            "1  female                    none             70\n",
            "2    male               completed             71\n",
            "3    male                    none             60\n",
            "Minimum Marks Obtained\n",
            "   gender test preparation course  math score\n",
            "0  female               completed          23\n",
            "1  female                    none           0\n",
            "2    male               completed          39\n",
            "3    male                    none          27\n",
            "   gender test preparation course  reading score\n",
            "0  female               completed             40\n",
            "1  female                    none             17\n",
            "2    male               completed             37\n",
            "3    male                    none             23\n",
            "   gender test preparation course  writing score\n",
            "0  female               completed             36\n",
            "1  female                    none             10\n",
            "2    male               completed             38\n",
            "3    male                    none             15\n"
          ]
        }
      ]
    },
    {
      "cell_type": "code",
      "metadata": {
        "id": "_NK-hvXb4b4o",
        "colab": {
          "base_uri": "https://localhost:8080/"
        },
        "outputId": "9960c9ff-6e2a-4ec8-ec4b-dac96d00f937"
      },
      "source": [
        "#The management needs your help to give bonus points to the top 25% of students based on their maths score, so how will you help the management to achieve this\n",
        "input_data['(math score+reading score+writing score)']=input_data.sum(axis=1)\n",
        "input_data.quantile(.75,axis=0)\n"
      ],
      "execution_count": 37,
      "outputs": [
        {
          "output_type": "execute_result",
          "data": {
            "text/plain": [
              "math score                                    77.00\n",
              "reading score                                 79.25\n",
              "writing score                                 79.00\n",
              "(math score+reading score+writing score)    5831.25\n",
              "Name: 0.75, dtype: float64"
            ]
          },
          "metadata": {},
          "execution_count": 37
        }
      ]
    },
    {
      "cell_type": "code",
      "metadata": {
        "id": "DDOB802X-sBv"
      },
      "source": [
        ""
      ],
      "execution_count": null,
      "outputs": []
    }
  ]
}