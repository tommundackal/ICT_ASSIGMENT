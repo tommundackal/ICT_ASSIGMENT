{
  "nbformat": 4,
  "nbformat_minor": 0,
  "metadata": {
    "colab": {
      "name": "Hypothes.ipynb",
      "provenance": []
    },
    "kernelspec": {
      "name": "python3",
      "display_name": "Python 3"
    },
    "language_info": {
      "name": "python"
    }
  },
  "cells": [
    {
      "cell_type": "code",
      "execution_count": 1,
      "metadata": {
        "id": "XJ0pJ4odgEG3"
      },
      "outputs": [],
      "source": [
        "#importing packages\n",
        "import  pandas as pd\n",
        "import numpy as np\n",
        "import seaborn as sns\n",
        "import scipy as sp\n",
        "import matplotlib.pyplot as plt"
      ]
    },
    {
      "cell_type": "code",
      "source": [
        "#Reading the file\n",
        "data = pd.read_csv('Sales_add.csv')\n",
        "data.head()"
      ],
      "metadata": {
        "colab": {
          "base_uri": "https://localhost:8080/",
          "height": 206
        },
        "id": "E2Q_6BcAgW07",
        "outputId": "e4b9ff9a-b43c-4d4f-eb70-22c478927a2f"
      },
      "execution_count": 2,
      "outputs": [
        {
          "output_type": "execute_result",
          "data": {
            "text/html": [
              "<div>\n",
              "<style scoped>\n",
              "    .dataframe tbody tr th:only-of-type {\n",
              "        vertical-align: middle;\n",
              "    }\n",
              "\n",
              "    .dataframe tbody tr th {\n",
              "        vertical-align: top;\n",
              "    }\n",
              "\n",
              "    .dataframe thead th {\n",
              "        text-align: right;\n",
              "    }\n",
              "</style>\n",
              "<table border=\"1\" class=\"dataframe\">\n",
              "  <thead>\n",
              "    <tr style=\"text-align: right;\">\n",
              "      <th></th>\n",
              "      <th>Month</th>\n",
              "      <th>Region</th>\n",
              "      <th>Manager</th>\n",
              "      <th>Sales_before_digital_add(in $)</th>\n",
              "      <th>Sales_After_digital_add(in $)</th>\n",
              "    </tr>\n",
              "  </thead>\n",
              "  <tbody>\n",
              "    <tr>\n",
              "      <th>0</th>\n",
              "      <td>Month-1</td>\n",
              "      <td>Region - A</td>\n",
              "      <td>Manager - A</td>\n",
              "      <td>132921</td>\n",
              "      <td>270390</td>\n",
              "    </tr>\n",
              "    <tr>\n",
              "      <th>1</th>\n",
              "      <td>Month-2</td>\n",
              "      <td>Region - A</td>\n",
              "      <td>Manager - C</td>\n",
              "      <td>149559</td>\n",
              "      <td>223334</td>\n",
              "    </tr>\n",
              "    <tr>\n",
              "      <th>2</th>\n",
              "      <td>Month-3</td>\n",
              "      <td>Region - B</td>\n",
              "      <td>Manager - A</td>\n",
              "      <td>146278</td>\n",
              "      <td>244243</td>\n",
              "    </tr>\n",
              "    <tr>\n",
              "      <th>3</th>\n",
              "      <td>Month-4</td>\n",
              "      <td>Region - B</td>\n",
              "      <td>Manager - B</td>\n",
              "      <td>152167</td>\n",
              "      <td>231808</td>\n",
              "    </tr>\n",
              "    <tr>\n",
              "      <th>4</th>\n",
              "      <td>Month-5</td>\n",
              "      <td>Region - C</td>\n",
              "      <td>Manager - B</td>\n",
              "      <td>159525</td>\n",
              "      <td>258402</td>\n",
              "    </tr>\n",
              "  </tbody>\n",
              "</table>\n",
              "</div>"
            ],
            "text/plain": [
              "     Month  ... Sales_After_digital_add(in $)\n",
              "0  Month-1  ...                        270390\n",
              "1  Month-2  ...                        223334\n",
              "2  Month-3  ...                        244243\n",
              "3  Month-4  ...                        231808\n",
              "4  Month-5  ...                        258402\n",
              "\n",
              "[5 rows x 5 columns]"
            ]
          },
          "metadata": {},
          "execution_count": 2
        }
      ]
    },
    {
      "cell_type": "code",
      "source": [
        "data.info()"
      ],
      "metadata": {
        "colab": {
          "base_uri": "https://localhost:8080/"
        },
        "id": "0kmwlHqGggee",
        "outputId": "5edf6b4b-541a-4ac2-aebd-cc5cd29b5f6f"
      },
      "execution_count": 3,
      "outputs": [
        {
          "output_type": "stream",
          "name": "stdout",
          "text": [
            "<class 'pandas.core.frame.DataFrame'>\n",
            "RangeIndex: 22 entries, 0 to 21\n",
            "Data columns (total 5 columns):\n",
            " #   Column                          Non-Null Count  Dtype \n",
            "---  ------                          --------------  ----- \n",
            " 0   Month                           22 non-null     object\n",
            " 1   Region                          22 non-null     object\n",
            " 2   Manager                         22 non-null     object\n",
            " 3   Sales_before_digital_add(in $)  22 non-null     int64 \n",
            " 4   Sales_After_digital_add(in $)   22 non-null     int64 \n",
            "dtypes: int64(2), object(3)\n",
            "memory usage: 1008.0+ bytes\n"
          ]
        }
      ]
    },
    {
      "cell_type": "code",
      "source": [
        "data.shape"
      ],
      "metadata": {
        "colab": {
          "base_uri": "https://localhost:8080/"
        },
        "id": "y2KCH9Y3giDz",
        "outputId": "2b194d55-87c1-472b-ef35-5ecca49aa8b2"
      },
      "execution_count": 4,
      "outputs": [
        {
          "output_type": "execute_result",
          "data": {
            "text/plain": [
              "(22, 5)"
            ]
          },
          "metadata": {},
          "execution_count": 4
        }
      ]
    },
    {
      "cell_type": "code",
      "source": [
        "#checking the value null or not\n",
        "data.isna().sum()"
      ],
      "metadata": {
        "colab": {
          "base_uri": "https://localhost:8080/"
        },
        "id": "hSmz_lwEglfa",
        "outputId": "2bbbf584-7624-43b7-b503-4395e1865e54"
      },
      "execution_count": 5,
      "outputs": [
        {
          "output_type": "execute_result",
          "data": {
            "text/plain": [
              "Month                             0\n",
              "Region                            0\n",
              "Manager                           0\n",
              "Sales_before_digital_add(in $)    0\n",
              "Sales_After_digital_add(in $)     0\n",
              "dtype: int64"
            ]
          },
          "metadata": {},
          "execution_count": 5
        }
      ]
    },
    {
      "cell_type": "code",
      "source": [
        "#Descriptive analytics on the dataset.\n",
        "data.describe()"
      ],
      "metadata": {
        "colab": {
          "base_uri": "https://localhost:8080/",
          "height": 300
        },
        "id": "W393GVxEgtpz",
        "outputId": "c208a506-9957-4e4a-85fe-6a364b915bb5"
      },
      "execution_count": 7,
      "outputs": [
        {
          "output_type": "execute_result",
          "data": {
            "text/html": [
              "<div>\n",
              "<style scoped>\n",
              "    .dataframe tbody tr th:only-of-type {\n",
              "        vertical-align: middle;\n",
              "    }\n",
              "\n",
              "    .dataframe tbody tr th {\n",
              "        vertical-align: top;\n",
              "    }\n",
              "\n",
              "    .dataframe thead th {\n",
              "        text-align: right;\n",
              "    }\n",
              "</style>\n",
              "<table border=\"1\" class=\"dataframe\">\n",
              "  <thead>\n",
              "    <tr style=\"text-align: right;\">\n",
              "      <th></th>\n",
              "      <th>Sales_before_digital_add(in $)</th>\n",
              "      <th>Sales_After_digital_add(in $)</th>\n",
              "    </tr>\n",
              "  </thead>\n",
              "  <tbody>\n",
              "    <tr>\n",
              "      <th>count</th>\n",
              "      <td>22.000000</td>\n",
              "      <td>22.000000</td>\n",
              "    </tr>\n",
              "    <tr>\n",
              "      <th>mean</th>\n",
              "      <td>149239.954545</td>\n",
              "      <td>231123.727273</td>\n",
              "    </tr>\n",
              "    <tr>\n",
              "      <th>std</th>\n",
              "      <td>14844.042921</td>\n",
              "      <td>25556.777061</td>\n",
              "    </tr>\n",
              "    <tr>\n",
              "      <th>min</th>\n",
              "      <td>130263.000000</td>\n",
              "      <td>187305.000000</td>\n",
              "    </tr>\n",
              "    <tr>\n",
              "      <th>25%</th>\n",
              "      <td>138087.750000</td>\n",
              "      <td>214960.750000</td>\n",
              "    </tr>\n",
              "    <tr>\n",
              "      <th>50%</th>\n",
              "      <td>147444.000000</td>\n",
              "      <td>229986.500000</td>\n",
              "    </tr>\n",
              "    <tr>\n",
              "      <th>75%</th>\n",
              "      <td>157627.500000</td>\n",
              "      <td>250909.000000</td>\n",
              "    </tr>\n",
              "    <tr>\n",
              "      <th>max</th>\n",
              "      <td>178939.000000</td>\n",
              "      <td>276279.000000</td>\n",
              "    </tr>\n",
              "  </tbody>\n",
              "</table>\n",
              "</div>"
            ],
            "text/plain": [
              "       Sales_before_digital_add(in $)  Sales_After_digital_add(in $)\n",
              "count                       22.000000                      22.000000\n",
              "mean                    149239.954545                  231123.727273\n",
              "std                      14844.042921                   25556.777061\n",
              "min                     130263.000000                  187305.000000\n",
              "25%                     138087.750000                  214960.750000\n",
              "50%                     147444.000000                  229986.500000\n",
              "75%                     157627.500000                  250909.000000\n",
              "max                     178939.000000                  276279.000000"
            ]
          },
          "metadata": {},
          "execution_count": 7
        }
      ]
    },
    {
      "cell_type": "code",
      "source": [
        "# 2 The company needs to check whether there is any dependency between the features “Region” and “Manager”.\n",
        "data_manager=data['Manager']\n",
        "data_region=data['Region']\n",
        "# plot\n",
        "from matplotlib import pyplot\n",
        "pyplot.scatter(data_manager, data_region)\n",
        "pyplot.show()"
      ],
      "metadata": {
        "colab": {
          "base_uri": "https://localhost:8080/",
          "height": 264
        },
        "id": "GCfM28-EgyuC",
        "outputId": "be24e436-7680-4835-9ecc-f22cd4402b4e"
      },
      "execution_count": 10,
      "outputs": [
        {
          "output_type": "display_data",
          "data": {
            "image/png": "[encoded data removed]",
            "text/plain": [
              "<Figure size 432x288 with 1 Axes>"
            ]
          },
          "metadata": {
            "needs_background": "light"
          }
        }
      ]
    },
    {
      "cell_type": "code",
      "source": [
        " print('From the above graph its clear that there is no Positive or Negative corelation among the Region and MAnager attributes')"
      ],
      "metadata": {
        "colab": {
          "base_uri": "https://localhost:8080/"
        },
        "id": "uehg2_awiov7",
        "outputId": "d087b9ff-f7b8-4d12-ad05-3b7de65b6781"
      },
      "execution_count": 13,
      "outputs": [
        {
          "output_type": "stream",
          "name": "stdout",
          "text": [
            "From the above graph its clear that there is no Positive or Negative corelation among the Region and MAnager attributes\n"
          ]
        }
      ]
    },
    {
      "cell_type": "code",
      "source": [
        "#1 The company wishes to clarify whether there is any increase in sales after stepping into digital marketing."
      ],
      "metadata": {
        "id": "f7n-O-b2jN0S"
      },
      "execution_count": null,
      "outputs": []
    },
    {
      "cell_type": "code",
      "source": [
        "data['Diff']=data['Sales_After_digital_add(in $)']-data['Sales_before_digital_add(in $)']\n",
        "data['Diff']"
      ],
      "metadata": {
        "colab": {
          "base_uri": "https://localhost:8080/"
        },
        "id": "RKW-0U_1jMEU",
        "outputId": "6647a578-45fd-446f-c995-0185e38adb1c"
      },
      "execution_count": 15,
      "outputs": [
        {
          "output_type": "execute_result",
          "data": {
            "text/plain": [
              "0     137469\n",
              "1      73775\n",
              "2      97965\n",
              "3      79641\n",
              "4      98877\n",
              "5     119785\n",
              "6      91481\n",
              "7      99497\n",
              "8      55002\n",
              "9      51779\n",
              "10     43836\n",
              "11     97340\n",
              "12     60118\n",
              "13    101617\n",
              "14     81873\n",
              "15     10110\n",
              "16     94046\n",
              "17     23521\n",
              "18     94905\n",
              "19     60086\n",
              "20    115963\n",
              "21    112757\n",
              "Name: Diff, dtype: int64"
            ]
          },
          "metadata": {},
          "execution_count": 15
        }
      ]
    },
    {
      "cell_type": "code",
      "source": [
        "data_month=data['Month']\n",
        "data_profit=data['Diff']\n",
        "# plot\n",
        "from matplotlib import pyplot\n",
        "pyplot.scatter(data_month, data_profit)\n",
        "pyplot.show()"
      ],
      "metadata": {
        "colab": {
          "base_uri": "https://localhost:8080/",
          "height": 264
        },
        "id": "Pr-Bye1joaYy",
        "outputId": "b412832e-d19c-47cd-8c01-768139e3c465"
      },
      "execution_count": 17,
      "outputs": [
        {
          "output_type": "display_data",
          "data": {
            "image/png": "[encoded data removed]",
            "text/plain": [
              "<Figure size 432x288 with 1 Axes>"
            ]
          },
          "metadata": {
            "needs_background": "light"
          }
        }
      ]
    },
    {
      "cell_type": "code",
      "source": [
        " print('From the above graph its clear that there is  Positive corelation among the Month and Increase in profit of sales after Digital promotion')"
      ],
      "metadata": {
        "colab": {
          "base_uri": "https://localhost:8080/"
        },
        "id": "wrnLcnVIpNR1",
        "outputId": "806087cc-c145-48a9-a58a-749ea0343153"
      },
      "execution_count": 18,
      "outputs": [
        {
          "output_type": "stream",
          "name": "stdout",
          "text": [
            "From the above graph its clear that there is  Positive corelation among the Month and Increase in profit of sales after Digital promotion\n"
          ]
        }
      ]
    }
  ]
}